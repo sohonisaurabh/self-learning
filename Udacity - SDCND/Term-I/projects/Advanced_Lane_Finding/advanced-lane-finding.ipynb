{
 "cells": [
  {
   "cell_type": "markdown",
   "metadata": {},
   "source": [
    "# Self-Driving Car Engineer Nanodegree\n",
    "\n",
    "## Computer Vision\n",
    "\n",
    "## Project: Advanced Lane Finding"
   ]
  },
  {
   "cell_type": "markdown",
   "metadata": {},
   "source": [
    "### Step 0: Declare and import dependencies on modules. Also declare global variables"
   ]
  },
  {
   "cell_type": "code",
   "execution_count": 133,
   "metadata": {
    "collapsed": false
   },
   "outputs": [],
   "source": [
    "#Declare dependencies on python modules here\n",
    "import glob\n",
    "import matplotlib.pyplot as plt\n",
    "import cv2\n",
    "import numpy as np"
   ]
  },
  {
   "cell_type": "code",
   "execution_count": 197,
   "metadata": {
    "collapsed": false
   },
   "outputs": [],
   "source": [
    "#Declare global variables used here\n",
    "calibration_images_path = \"camera_cal/calibration*.jpg\"\n",
    "distorted_images_path = \"distorted_images/distorted*.jpg\"\n",
    "test_images_path = \"test_images/*.jpg\"\n",
    "#Since there are 6 object points along rows and 9 object points along columns\n",
    "num_object_points = (9, 6)\n",
    "output_folder_path = \"output_images/\"\n",
    "#Initialize camera calibration coefficients\n",
    "camera_cal_coeff = {\n",
    "    \"mtx\": 0,\n",
    "    \"dist\": 0\n",
    "}"
   ]
  },
  {
   "cell_type": "markdown",
   "metadata": {
    "collapsed": true
   },
   "source": [
    "### Step 1: Compute the camera calibration matrix and distortion coefficients given a set of chessboard images"
   ]
  },
  {
   "cell_type": "markdown",
   "metadata": {},
   "source": [
    "#### Steps to follow:\n",
    "1. Read calibration images using glob API\n",
    "2. Create object points(3D array) for one image, this will be same for all other images\n",
    "3. Detect image points in each calibration image\n",
    "4. Add object points and image points of particular image to object points and image points array respectively\n",
    "5. Calculate camera matrix and distortion coefficients"
   ]
  },
  {
   "cell_type": "code",
   "execution_count": 135,
   "metadata": {
    "collapsed": false
   },
   "outputs": [],
   "source": [
    "def get_images(path):\n",
    "    images = glob.glob(path)\n",
    "    return images\n",
    "images = get_images(calibration_images_path)\n",
    "# print(images)\n",
    "# plt.imshow(cv2.imread(images[0]))\n",
    "# plt.show()"
   ]
  },
  {
   "cell_type": "code",
   "execution_count": 136,
   "metadata": {
    "collapsed": false
   },
   "outputs": [],
   "source": [
    "def calculate_camera_calibration(draw_corners=False):\n",
    "    images = get_images(calibration_images_path)\n",
    "    obj_points = []\n",
    "    img_points = []\n",
    "    current_obj_point = np.zeros((num_object_points[1]*num_object_points[0], 3), np.float32)\n",
    "    current_obj_point[:, :2] = np.mgrid[0:9, 0:6].T.reshape(-1,2)\n",
    "    \n",
    "    for image_name in images:\n",
    "        image = cv2.imread(image_name)\n",
    "        image_gray = cv2.cvtColor(image, cv2.COLOR_BGR2GRAY)\n",
    "        ret, corners = cv2.findChessboardCorners(image_gray, num_object_points, None)\n",
    "        \n",
    "        if ret == True:\n",
    "            current_img_point = corners\n",
    "            obj_points.append(current_obj_point)\n",
    "            img_points.append(current_img_point)\n",
    "            \n",
    "            if (draw_corners): \n",
    "                cv2.drawChessboardCorners(image, num_object_points, corners, ret)\n",
    "                plt.imshow(image)\n",
    "                plt.show()\n",
    "    ret, mtx, dist, rvecs, tvecs = cv2.calibrateCamera(obj_points, img_points, image_gray.shape[::-1], None, None)\n",
    "    return (mtx, dist)\n",
    "#print(calculate_camera_calibration(draw_corners=False))\n",
    "camera_cal_coeff[\"mtx\"], camera_cal_coeff[\"dist\"] = calculate_camera_calibration()"
   ]
  },
  {
   "cell_type": "markdown",
   "metadata": {},
   "source": [
    "### Step 2: Apply a distortion correction to raw images"
   ]
  },
  {
   "cell_type": "markdown",
   "metadata": {},
   "source": [
    "#### Steps to follow:\n",
    "1. Read distorted.jpg image\n",
    "2. Apply distortion correction\n",
    "3. Save undistorted image"
   ]
  },
  {
   "cell_type": "code",
   "execution_count": 137,
   "metadata": {
    "collapsed": false
   },
   "outputs": [],
   "source": [
    "def undistort(img, mtx, dist, img_file_name=\"distorted\", write_output=False):\n",
    "    undist_image = cv2.undistort(img, mtx, dist, None, mtx)\n",
    "    cv2.imwrite(output_folder_path + img_file_name.split(\".\", -1)[0] + \"-corrected.\" + img_file_name.split(\".\", -1)[1], undist_image)\n",
    "    return undist_image\n",
    "# image_path = get_images(distorted_images_path)[0]\n",
    "# distorted_image = cv2.imread(image_path)\n",
    "# plt.imshow(distorted_image)\n",
    "# plt.show()\n",
    "# distortion_corrected_image = undistort(distorted_image, \\\n",
    "#                                        camera_cal_coeff[\"mtx\"], \\\n",
    "#                                        camera_cal_coeff[\"dist\"], \\\n",
    "#                                        img_file_name=image_path.replace(\"\\\\\", \"/\").split(\"/\")[1], \\\n",
    "#                                        write_output=True)\n",
    "# plt.imshow(distortion_corrected_image)\n",
    "# plt.show()"
   ]
  },
  {
   "cell_type": "markdown",
   "metadata": {},
   "source": [
    "### Step 3: Use color transforms, gradients, etc., to create a thresholded binary image"
   ]
  },
  {
   "cell_type": "markdown",
   "metadata": {},
   "source": [
    "#### Utility method to crop image to extract the region where lane lines are most likely seen"
   ]
  },
  {
   "cell_type": "code",
   "execution_count": 321,
   "metadata": {
    "collapsed": false
   },
   "outputs": [],
   "source": [
    "def crop_image(image, ignore_mask_color=255):\n",
    "    mask = np.zeros_like(image)\n",
    "    xsize, ysize = image.shape[1], image.shape[0]\n",
    "    vertices = ((0.1565*xsize, 0.92*ysize), (xsize/2, 0.4867*ysize), (0.85*xsize, 0.92*ysize))\n",
    "    vertexArr = []\n",
    "    for vertex in vertices:\n",
    "        vertexArr.append((vertex[0], vertex[1]))\n",
    "    vertexArr = np.array([vertexArr], dtype=np.int32)\n",
    "    \n",
    "    cv2.fillPoly(mask, vertexArr, (ignore_mask_color))\n",
    "    masked_image = cv2.bitwise_and(image, mask)\n",
    "    return masked_image\n",
    "# image = cv2.cvtColor(cv2.imread(get_images(test_images_path)[0]), cv2.COLOR_BGR2GRAY)\n",
    "# masked_image = crop_image(image)\n",
    "# plt.imshow(masked_image, cmap=\"gray\")\n",
    "# plt.show()"
   ]
  },
  {
   "cell_type": "markdown",
   "metadata": {},
   "source": [
    "#### Utility method to merge binary characteristics of two or more images"
   ]
  },
  {
   "cell_type": "code",
   "execution_count": 192,
   "metadata": {
    "collapsed": true
   },
   "outputs": [],
   "source": [
    "def merge_binary_images(imgArr):\n",
    "    merged_image = np.zeros_like(imgArr[0])\n",
    "    for image in imgArr:\n",
    "        merged_image[(image == 1)] = 1\n",
    "    return merged_image"
   ]
  },
  {
   "cell_type": "markdown",
   "metadata": {},
   "source": [
    "#### Obtain gradient thresholded image with respect to 'x'/'y' orient"
   ]
  },
  {
   "cell_type": "code",
   "execution_count": 312,
   "metadata": {
    "collapsed": false
   },
   "outputs": [],
   "source": [
    "def sobel_threshold(img, sobel_kernel=3, orient=\"x\", thresh=(0, 255)):\n",
    "    gray = cv2.cvtColor(img, cv2.COLOR_BGR2GRAY)\n",
    "    if orient == \"x\":\n",
    "        sobel = cv2.Sobel(gray, cv2.CV_64F, 1, 0, ksize=sobel_kernel)\n",
    "    else:\n",
    "        sobel = cv2.Sobel(gray, cv2.CV_64F, 0, 1, ksize=sobel_kernel)\n",
    "    abs_sobel = np.absolute(sobel)\n",
    "    scaled_sobel = np.uint8(255*abs_sobel/np.max(abs_sobel))\n",
    "    binary_output = np.zeros_like(scaled_sobel)\n",
    "    binary_output[(scaled_sobel >= thresh[0]) & (scaled_sobel <= thresh[1])] = 1\n",
    "    return binary_output\n",
    "# image = cv2.imread(get_images(test_images_path)[1])\n",
    "# gradx = sobel_threshold(image, sobel_kernel=11, orient=\"x\", thresh=(40, 150))\n",
    "# grady = sobel_threshold(image, sobel_kernel=11, orient=\"y\", thresh=(40, 150))\n",
    "# merged = merge_binary_images([gradx, grady])\n",
    "# plt.imshow(image)\n",
    "# plt.show()\n",
    "# # plt.imshow(gradx, cmap=\"gray\")\n",
    "# # plt.show()\n",
    "# # plt.imshow(grady, cmap=\"gray\")\n",
    "# # plt.show()\n",
    "# plt.imshow(merged, cmap=\"gray\")\n",
    "# plt.show()"
   ]
  },
  {
   "cell_type": "markdown",
   "metadata": {},
   "source": [
    "#### Obtain magnitude thresholded image from sobel derivatives"
   ]
  },
  {
   "cell_type": "code",
   "execution_count": 250,
   "metadata": {
    "collapsed": false
   },
   "outputs": [],
   "source": [
    "def magnitude_threshold(img, sobel_kernel=3, thresh=(0, 255)):\n",
    "    gray = cv2.cvtColor(img, cv2.COLOR_BGR2GRAY)\n",
    "    sobelx = cv2.Sobel(gray, cv2.CV_64F, 1, 0, ksize=sobel_kernel)\n",
    "    sobely = cv2.Sobel(gray, cv2.CV_64F, 0, 1, ksize=sobel_kernel)\n",
    "    gradmag = np.sqrt(sobelx**2 + sobely**2)\n",
    "    scaled_gradmag = np.uint8(255*gradmag/np.max(gradmag))\n",
    "    binary_output = np.zeros_like(scaled_gradmag)\n",
    "    binary_output[(scaled_gradmag >= thresh[0]) & (scaled_gradmag <= thresh[1])] = 1\n",
    "    return binary_output\n",
    "# image = cv2.imread(get_images(test_images_path)[0])\n",
    "# mag = magnitude_threshold(image, sobel_kernel=11, thresh=(50, 150))\n",
    "# plt.imshow(image)\n",
    "# plt.show()\n",
    "# plt.imshow(mag, cmap=\"gray\")\n",
    "# plt.show()"
   ]
  },
  {
   "cell_type": "markdown",
   "metadata": {},
   "source": [
    "#### Obtain magnitude thresholded image from sobel derivatives"
   ]
  },
  {
   "cell_type": "code",
   "execution_count": 313,
   "metadata": {
    "collapsed": false
   },
   "outputs": [],
   "source": [
    "def direction_threshold(img, sobel_kernel=3, thresh=(0, np.pi/2)):\n",
    "    gray = cv2.cvtColor(img, cv2.COLOR_BGR2GRAY)\n",
    "    sobelx_abs = np.absolute(cv2.Sobel(gray, cv2.CV_64F, 1, 0, ksize=sobel_kernel))\n",
    "    sobely_abs = np.absolute(cv2.Sobel(gray, cv2.CV_64F, 0, 1, ksize=sobel_kernel))\n",
    "    graddir = np.arctan2(sobely_abs, sobelx_abs)\n",
    "    binary_output = np.zeros_like(graddir)\n",
    "    binary_output[(graddir >= thresh[0]) & (graddir <= thresh[1])] = 1\n",
    "    return binary_output\n",
    "# image = cv2.imread(get_images(test_images_path)[0])\n",
    "# dir = direction_threshold(image, sobel_kernel=7, thresh=(0.8, 1.3))\n",
    "# plt.imshow(image)\n",
    "# plt.show()\n",
    "# plt.imshow(dir, cmap=\"gray\")\n",
    "# plt.show()"
   ]
  },
  {
   "cell_type": "markdown",
   "metadata": {},
   "source": [
    "#### Obtained combined image from applied gradient thresholds"
   ]
  },
  {
   "cell_type": "code",
   "execution_count": 332,
   "metadata": {
    "collapsed": false
   },
   "outputs": [],
   "source": [
    "def apply_grad_threshold(img):\n",
    "    gradx = sobel_threshold(image, sobel_kernel=11, orient=\"x\", thresh=(40, 150))\n",
    "    grady = sobel_threshold(image, sobel_kernel=11, orient=\"y\", thresh=(40, 150))\n",
    "    mag = magnitude_threshold(image, sobel_kernel=11, thresh=(50, 150))\n",
    "    #dir = direction_threshold(image, sobel_kernel=11, thresh=(0.8, 1.3))\n",
    "    #merged_grad_image = merge_binary_images([gradx, grady, mag, dir])\n",
    "    merged_grad_image = merge_binary_images([gradx, grady, mag])\n",
    "    return merged_grad_image\n",
    "# image = cv2.imread(get_images(test_images_path)[0])\n",
    "# merged_grad_image = crop_image(apply_grad_threshold(image))\n",
    "# plt.imshow(image)\n",
    "# plt.show()\n",
    "# plt.imshow(merged_grad_image, cmap=\"gray\")\n",
    "# plt.show()"
   ]
  },
  {
   "cell_type": "markdown",
   "metadata": {},
   "source": [
    "#### Apply color threshold to image. Method expects 8-bit image (Either of R,G,B,H,L,S channels)"
   ]
  },
  {
   "cell_type": "code",
   "execution_count": 360,
   "metadata": {
    "collapsed": false
   },
   "outputs": [
    {
     "data": {
      "image/png": "[encoded data removed]",
      "text/plain": [
       "<matplotlib.figure.Figure at 0xa7d5b38>"
      ]
     },
     "metadata": {},
     "output_type": "display_data"
    },
    {
     "data": {
      "image/png": "[encoded data removed]",
      "text/plain": [
       "<matplotlib.figure.Figure at 0xb774978>"
      ]
     },
     "metadata": {},
     "output_type": "display_data"
    }
   ],
   "source": [
    "def apply_color_threshold(img, thresh=(0, 255)):\n",
    "    color_thresh_img = np.zeros_like(img)\n",
    "    color_thresh_img[(img >= thresh[0]) & (img <= thresh[1])] = 1\n",
    "    return color_thresh_img\n",
    "image = cv2.imread(get_images(test_images_path)[0])\n",
    "r_img, g_img, b_img = image[:,:,2], image[:,:,1], image[:,:,0]\n",
    "hls_img = cv2.cvtColor(image, cv2.COLOR_BGR2HLS)\n",
    "h_img, l_img, s_img = hls_img[:,:,0], hls_img[:,:,1], hls_img[:,:,2]\n",
    "r_thresholded = apply_color_threshold(r_img, thresh=(175, 255))\n",
    "l_thresholded = apply_color_threshold(l_img, thresh=(150, 255))\n",
    "# plt.imshow(r_img)\n",
    "# plt.show()\n",
    "plt.imshow(r_thresholded, cmap=\"gray\")\n",
    "plt.show()\n",
    "# plt.imshow(l_img)\n",
    "# plt.show()\n",
    "plt.imshow(l_thresholded, cmap=\"gray\")\n",
    "plt.show()"
   ]
  },
  {
   "cell_type": "markdown",
   "metadata": {},
   "source": [
    "### Step 4: Apply a perspective transform to rectify binary image (\"birds-eye view\")"
   ]
  },
  {
   "cell_type": "code",
   "execution_count": null,
   "metadata": {
    "collapsed": true
   },
   "outputs": [],
   "source": []
  },
  {
   "cell_type": "markdown",
   "metadata": {},
   "source": [
    "### Step 5: Detect lane pixels and fit to find the lane boundary"
   ]
  },
  {
   "cell_type": "markdown",
   "metadata": {},
   "source": [
    "### Step 6: Determine the curvature of the lane and vehicle position with respect to center"
   ]
  },
  {
   "cell_type": "markdown",
   "metadata": {},
   "source": [
    "### Step 7: Warp the detected lane boundaries back onto the original image"
   ]
  },
  {
   "cell_type": "markdown",
   "metadata": {},
   "source": [
    "### Step 8: Output visual display of the lane boundaries and numerical estimation of lane curvature and vehicle position"
   ]
  },
  {
   "cell_type": "markdown",
   "metadata": {},
   "source": [
    "### Main module"
   ]
  }
 ],
 "metadata": {
  "anaconda-cloud": {},
  "kernelspec": {
   "display_name": "Python 3",
   "language": "python",
   "name": "python3"
  },
  "language_info": {
   "codemirror_mode": {
    "name": "ipython",
    "version": 3
   },
   "file_extension": ".py",
   "mimetype": "text/x-python",
   "name": "python",
   "nbconvert_exporter": "python",
   "pygments_lexer": "ipython3",
   "version": "3.5.2"
  },
  "widgets": {
   "state": {},
   "version": "1.1.2"
  }
 },
 "nbformat": 4,
 "nbformat_minor": 1
}
