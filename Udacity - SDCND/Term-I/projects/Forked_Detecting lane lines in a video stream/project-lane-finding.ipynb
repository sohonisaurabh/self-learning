{
 "cells": [
  {
   "cell_type": "markdown",
   "metadata": {},
   "source": [
    " ### Cell below contains all import code"
   ]
  },
  {
   "cell_type": "code",
   "execution_count": 243,
   "metadata": {
    "collapsed": true
   },
   "outputs": [],
   "source": [
    "import matplotlib.image as mpimg\n",
    "import os\n",
    "import matplotlib.pyplot as plt\n",
    "import numpy as np\n",
    "import cv2"
   ]
  },
  {
   "cell_type": "markdown",
   "metadata": {},
   "source": [
    "### Function definitions go here"
   ]
  },
  {
   "cell_type": "markdown",
   "metadata": {},
   "source": [
    "#### Reading an image"
   ]
  },
  {
   "cell_type": "code",
   "execution_count": 244,
   "metadata": {
    "collapsed": false
   },
   "outputs": [],
   "source": [
    "def readImg(path):\n",
    "    image = mpimg.imread(path)\n",
    "    imagexsize = image.shape[1]\n",
    "    imageysize = image.shape[0]\n",
    "    #Returns an array containing image array as first element and image dimension as second element. Image dimensions is \n",
    "    #an array given by [ysize, xsize]\n",
    "    return [image, image.shape]\n",
    "#plt.imshow(readImg(collectImages(\"test_images\")[0])[0])\n",
    "#plt.show()"
   ]
  },
  {
   "cell_type": "markdown",
   "metadata": {},
   "source": [
    "#### Collecting image names from a folder"
   ]
  },
  {
   "cell_type": "code",
   "execution_count": 245,
   "metadata": {
    "collapsed": false
   },
   "outputs": [],
   "source": [
    "def collectImages(folderPath):\n",
    "    # Returns array of strings with complete path of a file from current folder.\n",
    "    return [folderPath + imageName for imageName in os.listdir(folderPath + \"/\")]\n",
    "#print (collectImages(\"test_images\"))"
   ]
  },
  {
   "cell_type": "markdown",
   "metadata": {},
   "source": [
    "#### Convert RGB image to Gray Scale"
   ]
  },
  {
   "cell_type": "code",
   "execution_count": 246,
   "metadata": {
    "collapsed": false
   },
   "outputs": [],
   "source": [
    "def convertToGrayScale (rgbImage):\n",
    "    grayImage = np.copy(rgbImage)\n",
    "    # Returns 8 bit image array converted from input 32-bit (8+8+8) RGB image.\n",
    "    return cv2.cvtColor(grayImage, cv2.COLOR_RGB2GRAY)\n",
    "#plt.imshow(convertToGrayScale(readImg(collectImages(\"test_images\")[0])[0]), cmap=\"gray\")\n",
    "#plt.show()"
   ]
  },
  {
   "cell_type": "markdown",
   "metadata": {},
   "source": [
    "#### Apply Gaussian Blur"
   ]
  },
  {
   "cell_type": "code",
   "execution_count": 247,
   "metadata": {
    "collapsed": false
   },
   "outputs": [],
   "source": [
    "def applyGaussianBlur (image, kernelSize=3):\n",
    "    filteredImage = np.copy(image)\n",
    "    # Return image array after applying Gaussian blur. Image array size depends on input image.\n",
    "    return cv2.GaussianBlur(filteredImage, (kernelSize, kernelSize), 0)\n",
    "#plt.imshow(convertToGrayScale(readImg(collectImages(\"test_images\")[0])[0]), cmap=\"gray\")\n",
    "#plt.show()\n",
    "#plt.imshow(applyGaussianBlur(convertToGrayScale(readImg(collectImages(\"test_images\")[0])[0]), 15), cmap=\"gray\")\n",
    "#plt.show()"
   ]
  },
  {
   "cell_type": "markdown",
   "metadata": {},
   "source": [
    "#### Apply Canny Edge Detection"
   ]
  },
  {
   "cell_type": "code",
   "execution_count": 248,
   "metadata": {
    "collapsed": false
   },
   "outputs": [],
   "source": [
    "def cannyEdgeDetector (grayImage, lowThreshold=1, highThreshold=10):\n",
    "    edges = cv2.Canny(grayImage, lowThreshold, highThreshold)\n",
    "    # Returns 8-bit image array of size same as input gray scale image with boolean True for edges and False for non-edges\n",
    "    return edges\n",
    "#plt.imshow(convertToGrayScale(readImg(collectImages(\"test_images\")[2])[0]), cmap=\"gray\")\n",
    "#plt.show()\n",
    "#plt.imshow(cannyEdgeDetector(applyGaussianBlur(convertToGrayScale(readImg(collectImages(\"test_images\")[2])[0]), 5), 50, 200), cmap=\"gray\")\n",
    "#plt.show()"
   ]
  },
  {
   "cell_type": "markdown",
   "metadata": {},
   "source": [
    "#### Filter out region of Interest"
   ]
  },
  {
   "cell_type": "code",
   "execution_count": 249,
   "metadata": {
    "collapsed": false
   },
   "outputs": [],
   "source": [
    "def createPolyFilter (vertices):\n",
    "    vertexArr = []\n",
    "    for vertex in vertices:\n",
    "        vertexArr.append((vertex[0], vertex[1]))\n",
    "    vertexArr = np.array([vertexArr], dtype=np.int32)\n",
    "    # Returns array of vertices as ordered pair tuples with data type as 32bit float\n",
    "    return vertexArr\n",
    "#print (createPolyFilter([(0, 0), (3,2), (400,322)]))"
   ]
  },
  {
   "cell_type": "code",
   "execution_count": 250,
   "metadata": {
    "collapsed": false
   },
   "outputs": [],
   "source": [
    "def applyRegionFilter (image, verticeArray):\n",
    "    mask = np.zeros_like(image)\n",
    "    \n",
    "    #defining a 3 channel or 1 channel color to fill the mask with depending on the input image\n",
    "    if len(image.shape) > 2:\n",
    "        channel_count = image.shape[2]  # i.e. 3 or 4 depending on your image\n",
    "        ignore_mask_color = (255,) * channel_count\n",
    "    else:\n",
    "        ignore_mask_color = 255\n",
    "    \n",
    "    #Create polygon and fill pixels inside polgon with ignore_mask_color\n",
    "    cv2.fillPoly(mask, verticeArray, ignore_mask_color)\n",
    "    maskedImage = cv2.bitwise_and(image, mask)\n",
    "    # Returns image of same size as input image after applying region of interest filter\n",
    "    return maskedImage\n",
    "#plt.imshow(cannyEdgeDetector(applyGaussianBlur(convertToGrayScale(readImg(collectImages(\"test_images\")[2])[0]), 5), 50, 200), cmap=\"gray\")\n",
    "#plt.show()\n",
    "#imagexsize = readImg(collectImages(\"test_images\")[1])[1][1]\n",
    "#imageysize = readImg(collectImages(\"test_images\")[1])[1][0]\n",
    "#plt.imshow(applyRegionFilter(cannyEdgeDetector(applyGaussianBlur(convertToGrayScale(readImg(collectImages(\"test_images\")[2])[0]), 5), 50, 200), \\\n",
    "#                           createPolyFilter([(int(imagexsize/10), imageysize),\\\n",
    "#                            (int(imagexsize/2), int(11*imageysize/20)),\\\n",
    "#                            (int(6*imagexsize/10), int(11*imageysize/20)),\\\n",
    "#                           (int(9*imagexsize/10), imageysize)])),\\\n",
    "#          cmap=\"gray\")\n",
    "#plt.show()"
   ]
  },
  {
   "cell_type": "markdown",
   "metadata": {},
   "source": [
    "#### Draw Hough lines"
   ]
  },
  {
   "cell_type": "code",
   "execution_count": 263,
   "metadata": {
    "collapsed": false
   },
   "outputs": [],
   "source": [
    "def drawHoughLines (image, edgeImage, rho=1, theta=(np.pi/180), threshold=1, minLineLength=2, maxLineGap=5):\n",
    "    houghLines = cv2.HoughLinesP(edgeImage, rho, theta, threshold, np.array([]), minLineLength, maxLineGap)\n",
    "    lineImage = np.copy(image)\n",
    "    for line in houghLines:\n",
    "        for x1, y1, x2, y2 in line:\n",
    "            cv2.line(lineImage, (x1,y1), (x2,y2), (255,0,0), 5)\n",
    "    # Returns original image with lines detected by Hough superimposed\n",
    "    return lineImage\n",
    "#image = readImg(collectImages(\"test_images\")[5])\n",
    "#imagexsize = image[1][1]\n",
    "#imageysize = image[1][0]\n",
    "#edgeImage = applyRegionFilter(cannyEdgeDetector(applyGaussianBlur(convertToGrayScale(image[0]), 5), 50, 240), \\\n",
    "#                           createPolyFilter([(int(imagexsize/20), imageysize),\\\n",
    "#                            (int(imagexsize/2), int(12*imageysize/20)),\\\n",
    "#                            (int(6*imagexsize/10), int(12*imageysize/20)),\\\n",
    "#                           (int(18*imagexsize/20), imageysize)]))\n",
    "#plt.imshow(edgeImage, cmap=\"gray\")\n",
    "#plt.show()\n",
    "#plt.imshow(drawHoughLines(image[0], edgeImage, threshold=20, minLineLength=20, maxLineGap=80))\n",
    "#plt.show()\n"
   ]
  },
  {
   "cell_type": "markdown",
   "metadata": {},
   "source": [
    "### Main method to test code"
   ]
  },
  {
   "cell_type": "code",
   "execution_count": 266,
   "metadata": {
    "collapsed": false
   },
   "outputs": [],
   "source": [
    "def main():\n",
    "    pathToImageFolder = \"test_images/\"\n",
    "    \n",
    "    for imageName in collectImages(pathToImageFolder):\n",
    "        \n",
    "        imageWithAttr = readImg(imageName)\n",
    "        imagexsize = imageWithAttr[1][1]\n",
    "        imageysize = imageWithAttr[1][0]\n",
    "        kernelSize = 5\n",
    "        cannyLowThreshold = 50\n",
    "        cannyHighThreshold = 240\n",
    "        regionPolyVector = createPolyFilter([(int(imagexsize/20), imageysize),\\\n",
    "                                (int(imagexsize/2), int(12*imageysize/20)),\\\n",
    "                                (int(6*imagexsize/10), int(12*imageysize/20)),\\\n",
    "                               (int(18*imagexsize/20), imageysize)])\n",
    "\n",
    "        houghThreshold = 20\n",
    "        houghMinLineLenght = 20\n",
    "        houghMaxLineGap = 80\n",
    "\n",
    "        grayScaledImage = convertToGrayScale(imageWithAttr[0])\n",
    "        gaussianBlurredImage = applyGaussianBlur(grayScaledImage, kernelSize)\n",
    "        edgeImage = cannyEdgeDetector(gaussianBlurredImage, cannyLowThreshold, cannyHighThreshold)\n",
    "        regionSelectedImage = applyRegionFilter(edgeImage, regionPolyVector)\n",
    "        imageWithHoughLines = drawHoughLines(imageWithAttr[0], regionSelectedImage, threshold=houghThreshold,\\\n",
    "                                             minLineLength=houghMinLineLenght, maxLineGap=houghMaxLineGap)\n",
    "        #plt.imshow(imageWithHoughLines)\n",
    "        #plt.show()\n",
    "        #mpimg.imsave(imageName[0:imageName.rindex(\".\")] + \"_lane_detected\" + imageName[imageName.rindex(\".\"):], imageWithHoughLines)\n",
    "main()"
   ]
  },
  {
   "cell_type": "code",
   "execution_count": null,
   "metadata": {
    "collapsed": true
   },
   "outputs": [],
   "source": []
  }
 ],
 "metadata": {
  "kernelspec": {
   "display_name": "Python 3",
   "language": "python",
   "name": "python3"
  },
  "language_info": {
   "codemirror_mode": {
    "name": "ipython",
    "version": 3
   },
   "file_extension": ".py",
   "mimetype": "text/x-python",
   "name": "python",
   "nbconvert_exporter": "python",
   "pygments_lexer": "ipython3",
   "version": "3.5.2"
  },
  "widgets": {
   "state": {},
   "version": "1.1.2"
  }
 },
 "nbformat": 4,
 "nbformat_minor": 2
}
