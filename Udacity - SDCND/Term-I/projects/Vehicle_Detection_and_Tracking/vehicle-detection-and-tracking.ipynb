{
 "cells": [
  {
   "cell_type": "markdown",
   "metadata": {},
   "source": [
    "# Self-Driving Car Engineer Nanodegree\n",
    "\n",
    "## Computer Vision\n",
    "\n",
    "## Project: Vehicle Detection and Tracking"
   ]
  },
  {
   "cell_type": "markdown",
   "metadata": {},
   "source": [
    "### Starter code"
   ]
  },
  {
   "cell_type": "markdown",
   "metadata": {},
   "source": [
    "#### Import of libraries"
   ]
  },
  {
   "cell_type": "code",
   "execution_count": 143,
   "metadata": {
    "collapsed": false
   },
   "outputs": [],
   "source": [
    "import glob\n",
    "import numpy as np\n",
    "import cv2\n",
    "import matplotlib.pyplot as plt\n",
    "from skimage.feature import hog\n",
    "from sklearn.preprocessing import StandardScaler\n",
    "#from sklearn.cross_validation import train_test_split\n",
    "from sklearn.model_selection import train_test_split\n",
    "from sklearn.svm import LinearSVC\n",
    "import time"
   ]
  },
  {
   "cell_type": "markdown",
   "metadata": {},
   "source": [
    "#### Declaration of global variables"
   ]
  },
  {
   "cell_type": "code",
   "execution_count": 187,
   "metadata": {
    "collapsed": true
   },
   "outputs": [],
   "source": [
    "car_complete_data_path = \"complete-dataset/vehicles/*.png\"\n",
    "noncar_complete_data_path = \"complete-dataset/non-vehicles/*.png\"\n",
    "car_partial_data_path = \"partial-dataset/vehicles/*.jpeg\"\n",
    "noncar_partial_data_path = \"partial-dataset/non-vehicles/*.jpeg\"\n",
    "test_images_path = \"test_images/*.jpg\""
   ]
  },
  {
   "cell_type": "markdown",
   "metadata": {},
   "source": [
    "#### Extract images using glob"
   ]
  },
  {
   "cell_type": "code",
   "execution_count": 21,
   "metadata": {
    "collapsed": false
   },
   "outputs": [],
   "source": [
    "def extract_images(imgs_path, return_path_only=True):\n",
    "    images = []\n",
    "    images_path = glob.glob(imgs_path)\n",
    "    if (return_path_only == False):\n",
    "        for image_path in images_path:\n",
    "            image = cv2.imread(image_path)\n",
    "            images.append(image)\n",
    "    images = np.array(images)\n",
    "    return_dict = {\n",
    "        \"imgs_path\": images_path,\n",
    "        \"imgs\": images\n",
    "    }\n",
    "    return return_dict\n",
    "# extract = extract_images(car_partial_data_path, return_path_only=False)\n",
    "# print(len(extract[\"imgs_path\"]))\n",
    "# print(len(extract[\"imgs\"]))\n",
    "# plt.imshow(extract[imgs][0])\n",
    "# plt.show()"
   ]
  },
  {
   "cell_type": "markdown",
   "metadata": {},
   "source": [
    "#### Dataset exploration"
   ]
  },
  {
   "cell_type": "code",
   "execution_count": 24,
   "metadata": {
    "collapsed": false
   },
   "outputs": [
    {
     "name": "stdout",
     "output_type": "stream",
     "text": [
      "{'image_shape': (64, 64, 3), 'n_cars': 1196, 'data_type': dtype('uint8'), 'n_notcars': 1125}\n"
     ]
    }
   ],
   "source": [
    "def explore_data(car_list, notcar_list):\n",
    "    data_dict = {}\n",
    "    # Define a key in data_dict \"n_cars\" and store the number of car images\n",
    "    data_dict[\"n_cars\"] = len(car_list)\n",
    "    # Define a key \"n_notcars\" and store the number of notcar images\n",
    "    data_dict[\"n_notcars\"] = len(notcar_list)\n",
    "    # Read in a test image, either car or notcar\n",
    "    test_img = cv2.imread(car_list[0])\n",
    "    shape = test_img.shape\n",
    "    # Define a key \"image_shape\" and store the test image shape 3-tuple\n",
    "    data_dict[\"image_shape\"] = shape\n",
    "    # Define a key \"data_type\" and store the data type of the test image.\n",
    "    data_dict[\"data_type\"] = test_img.dtype\n",
    "    # Return data_dict\n",
    "    return data_dict\n",
    "# cars = extract_images(car_partial_data_path)[\"imgs_path\"]\n",
    "# noncars = extract_images(noncar_partial_data_path)[\"imgs_path\"]\n",
    "# exploration = explore_data(cars, noncars)\n",
    "# print(exploration)"
   ]
  },
  {
   "cell_type": "markdown",
   "metadata": {},
   "source": [
    "###  Goal 1 - Perform a Histogram of Oriented Gradients (HOG) feature extraction on a labeled training set of images"
   ]
  },
  {
   "cell_type": "code",
   "execution_count": 232,
   "metadata": {
    "collapsed": false
   },
   "outputs": [],
   "source": [
    "def hog_features(img, orient=9, pix_per_cell=8, cell_per_block=2, visualization=False, feature_vec=True):\n",
    "    if visualization == True:\n",
    "        # Use skimage.hog() to get both features and a visualization\n",
    "        features, hog_image = hog(img, orientations=orient, pixels_per_cell=(pix_per_cell, pix_per_cell), cells_per_block=(cell_per_block, cell_per_block), visualise=visualization, feature_vector=feature_vec)\n",
    "    else:      \n",
    "        # Use skimage.hog() to get features only\n",
    "        features = hog(img, orientations=orient, pixels_per_cell=(pix_per_cell, pix_per_cell), cells_per_block=(cell_per_block, cell_per_block), visualise=visualization, feature_vector=feature_vec)\n",
    "        hog_image = None\n",
    "    return features, hog_image\n",
    "# image = extract_images(car_partial_data_path, return_path_only=False)[\"imgs\"][0]\n",
    "# gray = cv2.cvtColor(image, cv2.COLOR_BGR2GRAY)\n",
    "# hog_features, hog_image = hog_features(gray, orient=9, pix_per_cell=8, cell_per_block=2, visualization=True)\n",
    "# plt.imshow(image)\n",
    "# plt.show()\n",
    "# plt.imshow(hog_image, cmap=\"gray\")\n",
    "# plt.show()"
   ]
  },
  {
   "cell_type": "markdown",
   "metadata": {},
   "source": [
    "#### Extract HOG features from a set of images and create feature vector for each image"
   ]
  },
  {
   "cell_type": "code",
   "execution_count": 254,
   "metadata": {
    "collapsed": false
   },
   "outputs": [],
   "source": [
    "def extract_hog_features(imgs, is_image_path=True, orient=9, pix_per_cell=8, cell_per_block=2, hog_channel=\"ALL\", visualization=False, feature_vec=True):\n",
    "    features = []\n",
    "    for img in imgs:\n",
    "        if (is_image_path == True):\n",
    "            img = cv2.imread(img)\n",
    "        if (hog_channel == \"ALL\"):\n",
    "            img_features = []\n",
    "            for channel in range(img.shape[2]): \n",
    "                img_features.extend(hog_features(img[:,:,channel], orient=orient, pix_per_cell=pix_per_cell, \n",
    "                                cell_per_block=cell_per_block, visualization=visualization)[0])\n",
    "        else:\n",
    "            img_features = hog_features(img[:,:, hog_channel], orient=orient, pix_per_cell=pix_per_cell, \n",
    "                                cell_per_block=cell_per_block, visualization=visualization)[0]\n",
    "        #print(len(img_features))\n",
    "        features.append(img_features)\n",
    "    return np.array(features)\n",
    "# images = extract_images(car_partial_data_path)[\"imgs_path\"]\n",
    "# features = extract_hog_features(images, orient=9, pix_per_cell=8, cell_per_block=2, hog_channel=0)\n",
    "# print(len(features))\n",
    "# print(features[0])"
   ]
  },
  {
   "cell_type": "markdown",
   "metadata": {},
   "source": [
    "### Goal 2 - Apply a color transform and extract binned color features, as well as histograms of color."
   ]
  },
  {
   "cell_type": "markdown",
   "metadata": {},
   "source": [
    "#### Spatial binning of images"
   ]
  },
  {
   "cell_type": "code",
   "execution_count": 36,
   "metadata": {
    "collapsed": false
   },
   "outputs": [],
   "source": [
    "def bin_spatial(img, size=(32, 32)):\n",
    "    # Use cv2.resize().ravel() to create the feature vector\n",
    "    features = cv2.resize(img, size).ravel() \n",
    "    # Return the feature vector\n",
    "    return features\n",
    "# image = extract_images(car_partial_data_path, return_path_only=False)[\"imgs\"][0]\n",
    "# bin_features = bin_spatial(image, size=(32, 32))\n",
    "# print(len(bin_features))"
   ]
  },
  {
   "cell_type": "markdown",
   "metadata": {},
   "source": [
    "#### Histogram of color"
   ]
  },
  {
   "cell_type": "code",
   "execution_count": 74,
   "metadata": {
    "collapsed": false
   },
   "outputs": [],
   "source": [
    "def color_hist(img, nbins=32, bins_range=(0, 256)):\n",
    "    # Compute the histogram of the color channels separately\n",
    "    channel1_hist = np.histogram(img[:,:,0], bins=nbins, range=bins_range)\n",
    "    channel2_hist = np.histogram(img[:,:,1], bins=nbins, range=bins_range)\n",
    "    channel3_hist = np.histogram(img[:,:,2], bins=nbins, range=bins_range)\n",
    "    # Concatenate the histograms into a single feature vector\n",
    "    hist_features = np.concatenate((channel1_hist[0], channel2_hist[0], channel3_hist[0]))\n",
    "    # Return the individual histograms, bin_centers and feature vector\n",
    "    return hist_features\n",
    "# image = extract_images(car_partial_data_path, return_path_only=False)[\"imgs\"][0]\n",
    "# hist_features = color_hist(image, nbins=32, bins_range=(0, 256))\n",
    "# print(len(hist_features))"
   ]
  },
  {
   "cell_type": "markdown",
   "metadata": {},
   "source": [
    "#### Extract color features obtained from spatial binning and histogram of color and merge them into single feature vector for an image"
   ]
  },
  {
   "cell_type": "code",
   "execution_count": 256,
   "metadata": {
    "collapsed": false
   },
   "outputs": [],
   "source": [
    "def extract_color_features(imgs, is_image_path=True, spatial_feat=True, hist_feat=True, colorspace=['BGR'], \n",
    "                           spatial_size=(32, 32),\n",
    "                        hist_bins=32, hist_range=(0, 256)):\n",
    "    original_color_space = 'BGR'\n",
    "    # Create a list to append feature vectors to\n",
    "    features = []\n",
    "    # Iterate through the list of images\n",
    "        # Read in each one by one\n",
    "        # apply color conversion if other than 'RGB'\n",
    "        # Apply bin_spatial() to get spatial color features\n",
    "        # Apply color_hist() to get color histogram features\n",
    "        # Append the new feature vector to the features list\n",
    "    for img in imgs:\n",
    "        if (is_image_path):\n",
    "            img = cv2.imread(img)\n",
    "        if (spatial_feat):\n",
    "            bin_features_cspace = []\n",
    "            for cspace in colorspace:\n",
    "                if (cspace != original_color_space):\n",
    "                    img = cv2.cvtColor(img, eval(\"cv2.COLOR_BGR2\" + cspace))\n",
    "                bin_features_cspace.append(bin_spatial(img, spatial_size))\n",
    "            bin_features = [y for x in bin_features_cspace for y in x]\n",
    "            features.append(bin_features)\n",
    "        if (hist_feat):\n",
    "            color_hist_features_cspace = []\n",
    "            color_hist_features_cspace.append(color_hist(img, hist_bins, hist_range))\n",
    "            color_hist_features = [y for x in color_hist_features_cspace for y in x]\n",
    "            features.append(color_hist_features)\n",
    "        features.append(np.concatenate(features))\n",
    "    # Return list of feature vectors\n",
    "    return np.array(features)\n",
    "# image = extract_images(car_partial_data_path)[\"imgs_path\"][0]\n",
    "# features = extract_color_features([image], colorspace=['BGR', 'HSV'] , spatial_size=(32, 32), hist_bins=32, hist_range=(0, 256))\n",
    "# #print(len(hist_features))"
   ]
  },
  {
   "cell_type": "markdown",
   "metadata": {},
   "source": [
    "### Goal 3 - Normalization of features and randomize a selection for training and testing."
   ]
  },
  {
   "cell_type": "markdown",
   "metadata": {},
   "source": [
    "#### Normalization of features"
   ]
  },
  {
   "cell_type": "code",
   "execution_count": 264,
   "metadata": {
    "collapsed": false
   },
   "outputs": [],
   "source": [
    "def normalize_features(features, return_raw_features=False):\n",
    "    # Create an array stack of feature vectors\n",
    "    X = np.vstack(features).astype(np.float64)\n",
    "    # Fit a per-column scaler\n",
    "    X_scaler = StandardScaler().fit(X)\n",
    "    # Apply the scaler to X\n",
    "    scaled_X = X_scaler.transform(X)\n",
    "    if (return_raw_features):\n",
    "        return_val = (scaled_X, X_scaler, X)\n",
    "    else:\n",
    "        return_val = (scaled_X, X_scaler)\n",
    "    return return_val\n",
    "# car_images = extract_images(car_partial_data_path)[\"imgs_path\"]\n",
    "# car_features = extract_color_features(car_images, colorspace=['BGR'] , spatial_size=(32, 32), hist_bins=32, hist_range=(0, 256))\n",
    "# noncar_images = extract_images(noncar_partial_data_path)[\"imgs_path\"]\n",
    "# noncar_features = extract_color_features(noncar_images, colorspace=['BGR'] , spatial_size=(32, 32), hist_bins=32, hist_range=(0, 256))\n",
    "# combined_features = (car_features, noncar_features)\n",
    "# normalized_features, X = normalize_features(combined_features, return_raw_features=True)\n",
    "# fig = plt.figure(figsize=(12,4))\n",
    "# plt.subplot(131)\n",
    "# plt.imshow(cv2.imread(car_images[100]))\n",
    "# plt.title('Original Image')\n",
    "# plt.subplot(132)\n",
    "# plt.plot(X[100])\n",
    "# plt.title('Raw Features')\n",
    "# plt.subplot(133)\n",
    "# plt.plot(normalized_features[100])\n",
    "# plt.title('Normalized Features')\n",
    "# fig.tight_layout()\n",
    "# plt.show()\n",
    "# print(\"Number of cars/carsfeatures are:\", len(car_features), \"Number of noncars/noncars features are:\", len(noncar_features), \"Number of normalized vectors are:\", len(normalized_features))"
   ]
  },
  {
   "cell_type": "markdown",
   "metadata": {},
   "source": [
    "#### Create training, validation and testing dataset by splitting the whole dataset"
   ]
  },
  {
   "cell_type": "code",
   "execution_count": 265,
   "metadata": {
    "collapsed": false
   },
   "outputs": [],
   "source": [
    "def split_dataset(dataset, test_split_ratio=0.2):\n",
    "    rand_state = np.random.randint(0, 100)\n",
    "    X_train, X_test, y_train, y_test = train_test_split(dataset[\"scaled_X\"], dataset[\"y\"], \n",
    "                                                        test_size=test_split_ratio, random_state=rand_state)\n",
    "    return (X_train, y_train, X_test, y_test)\n",
    "# car_images = extract_images(car_partial_data_path)[\"imgs_path\"]\n",
    "# car_features = extract_color_features(car_images, colorspace=['BGR'] , spatial_size=(32, 32), hist_bins=32, hist_range=(0, 256))\n",
    "# noncar_images = extract_images(noncar_partial_data_path)[\"imgs_path\"]\n",
    "# noncar_features = extract_color_features(noncar_images, colorspace=['BGR'] , spatial_size=(32, 32), hist_bins=32, hist_range=(0, 256))\n",
    "# scaled_X, scaler = normalize_features((car_features, noncar_features))\n",
    "# labels_car = [1 for i in range(len(car_images))]\n",
    "# labels_noncar = [0 for i in range(len(noncar_images))]\n",
    "# labels = np.concatenate((labels_car, labels_noncar))\n",
    "# dataset = {\n",
    "#     \"scaled_X\": scaled_X,\n",
    "#     \"y\": labels\n",
    "# }\n",
    "# X_train, y_train, X_test, y_test = split_dataset(dataset, test_split_ratio=0.2)\n",
    "# print(len(X_train), len(y_train), len(X_test), len(y_test))"
   ]
  },
  {
   "cell_type": "markdown",
   "metadata": {},
   "source": [
    "### Goal 4 - Train a classifier Linear SVM classifier on extracted features"
   ]
  },
  {
   "cell_type": "markdown",
   "metadata": {},
   "source": [
    "#### Train a linear SVM classifier and measure the accuracy on test set"
   ]
  },
  {
   "cell_type": "code",
   "execution_count": 240,
   "metadata": {
    "collapsed": false
   },
   "outputs": [],
   "source": [
    "def train_SVC(X_train, y_train, X_test, y_test):\n",
    "    svc = LinearSVC()\n",
    "    t=time.time()\n",
    "    svc.fit(X_train, y_train)\n",
    "    t2 = time.time()\n",
    "    print(round(t2-t, 2), 'Seconds to train SVC...')\n",
    "    return svc\n",
    "# car_images = extract_images(car_partial_data_path)[\"imgs_path\"]\n",
    "# car_features = extract_color_features(car_images, colorspace=['BGR'] , spatial_size=(32, 32), hist_bins=32, hist_range=(0, 256))\n",
    "# noncar_images = extract_images(noncar_partial_data_path)[\"imgs_path\"]\n",
    "# noncar_features = extract_color_features(noncar_images, colorspace=['BGR'] , spatial_size=(32, 32), hist_bins=32, hist_range=(0, 256))\n",
    "# scaled_X = normalize_features((car_features, noncar_features))\n",
    "# labels_car = [1 for i in range(len(car_images))]\n",
    "# labels_noncar = [0 for i in range(len(noncar_images))]\n",
    "# labels = np.concatenate((labels_car, labels_noncar))\n",
    "# dataset = {\n",
    "#     \"scaled_X\": scaled_X,\n",
    "#     \"y\": labels\n",
    "# }\n",
    "# X_train, y_train, X_test, y_test = split_dataset(dataset, test_split_ratio=0.2)\n",
    "# clf = train_SVC(X_train, y_train, X_test, y_test)\n",
    "#accuracy = clf.score(X_test, y_test)\n",
    "# print(accuracy)"
   ]
  },
  {
   "cell_type": "markdown",
   "metadata": {},
   "source": [
    "#### Train SVC classifier on extracted color features only"
   ]
  },
  {
   "cell_type": "code",
   "execution_count": 249,
   "metadata": {
    "collapsed": false
   },
   "outputs": [
    {
     "name": "stdout",
     "output_type": "stream",
     "text": [
      "3.35 Seconds to train SVC...\n",
      "Test set accuracy obtained by training on color features only is: 0.987096774194\n"
     ]
    }
   ],
   "source": [
    "def train_on_color_features(car_imgs_path, noncar_imgs_path):\n",
    "    \n",
    "    car_features = extract_color_features(car_imgs_path, colorspace=['BGR'] , spatial_size=(32, 32), hist_bins=32, hist_range=(0, 256))\n",
    "    \n",
    "    noncar_features = extract_color_features(noncar_imgs_path, colorspace=['BGR'] , spatial_size=(32, 32), hist_bins=32, hist_range=(0, 256))\n",
    "    \n",
    "    scaled_X = normalize_features((car_features, noncar_features))\n",
    "    labels_car = [1 for i in range(len(car_features))]\n",
    "    labels_noncar = [0 for i in range(len(noncar_features))]\n",
    "    labels = np.concatenate((labels_car, labels_noncar))\n",
    "    dataset = {\n",
    "        \"scaled_X\": scaled_X,\n",
    "        \"y\": labels\n",
    "    }\n",
    "    X_train, y_train, X_test, y_test = split_dataset(dataset, test_split_ratio=0.2)\n",
    "    clf = train_SVC(X_train, y_train, X_test, y_test)\n",
    "    color_accuracy = clf.score(X_test, y_test)\n",
    "    return (clf, color_accuracy)\n",
    "car_images = extract_images(car_partial_data_path)[\"imgs_path\"]\n",
    "noncar_images = extract_images(noncar_partial_data_path)[\"imgs_path\"]\n",
    "clf, color_accuracy = train_on_color_features(car_images, noncar_images)\n",
    "print(\"Test set accuracy obtained by training on color features only is:\", color_accuracy)"
   ]
  },
  {
   "cell_type": "markdown",
   "metadata": {},
   "source": [
    "#### Train SVC on extracted HOG features only"
   ]
  },
  {
   "cell_type": "code",
   "execution_count": 248,
   "metadata": {
    "collapsed": false
   },
   "outputs": [
    {
     "name": "stdout",
     "output_type": "stream",
     "text": [
      "0.74 Seconds to train SVC...\n",
      "Test set accuracy obtained by training on HOG features only is: 0.963440860215\n"
     ]
    }
   ],
   "source": [
    "def train_on_hog_features(car_imgs_path, noncar_imgs_path):\n",
    "    \n",
    "    car_hog_features = extract_hog_features(car_imgs_path, orient=9, pix_per_cell=8, cell_per_block=2)\n",
    "    \n",
    "    noncar_hog_features = extract_hog_features(noncar_imgs_path, orient=9, pix_per_cell=8, cell_per_block=2)\n",
    "    \n",
    "    scaled_X = normalize_features((car_hog_features, noncar_hog_features))\n",
    "    labels_car = [1 for i in range(len(car_hog_features))]\n",
    "    labels_noncar = [0 for i in range(len(noncar_hog_features))]\n",
    "    labels = np.concatenate((labels_car, labels_noncar))\n",
    "    dataset = {\n",
    "        \"scaled_X\": scaled_X,\n",
    "        \"y\": labels\n",
    "    }\n",
    "    X_train, y_train, X_test, y_test = split_dataset(dataset, test_split_ratio=0.2)\n",
    "    clf =  train_SVC(X_train, y_train, X_test, y_test)\n",
    "    hog_accuracy = clf.score(X_test, y_test)\n",
    "    return (clf, hog_accuracy)\n",
    "car_images = extract_images(car_partial_data_path)[\"imgs_path\"]\n",
    "noncar_images = extract_images(noncar_partial_data_path)[\"imgs_path\"]\n",
    "clf, hog_accuracy = train_on_hog_features(car_images, noncar_images)\n",
    "print(\"Test set accuracy obtained by training on HOG features only is:\", hog_accuracy)"
   ]
  },
  {
   "cell_type": "markdown",
   "metadata": {},
   "source": [
    "#### Train SVC on all features extracted (In this case, color and HOG features)"
   ]
  },
  {
   "cell_type": "code",
   "execution_count": 250,
   "metadata": {
    "collapsed": false
   },
   "outputs": [
    {
     "name": "stdout",
     "output_type": "stream",
     "text": [
      "1.16 Seconds to train SVC...\n",
      "Test set accuracy obtained by training on all features is: 0.982795698925\n"
     ]
    }
   ],
   "source": [
    "def train_on_all_features(car_imgs_path, noncar_imgs_path):\n",
    "    car_hog_features = extract_hog_features(car_imgs_path, orient=9, pix_per_cell=8, cell_per_block=2)\n",
    "    car_color_features = extract_color_features(car_imgs_path, colorspace=['BGR'] , spatial_size=(32, 32), hist_bins=32, hist_range=(0, 256))\n",
    "    \n",
    "    noncar_hog_features = extract_hog_features(noncar_imgs_path, orient=9, pix_per_cell=8, cell_per_block=2)\n",
    "    noncar_color_features = extract_color_features(noncar_imgs_path, colorspace=['BGR'] , spatial_size=(32, 32), hist_bins=32, hist_range=(0, 256))\n",
    "    \n",
    "    car_all_features = np.concatenate((car_color_features, car_hog_features), axis=1)\n",
    "    noncar_all_features = np.concatenate((noncar_color_features, noncar_hog_features), axis=1)\n",
    "    \n",
    "    scaled_X = normalize_features((car_all_features, noncar_all_features))\n",
    "    labels_car = [1 for i in range(len(car_hog_features))]\n",
    "    labels_noncar = [0 for i in range(len(noncar_hog_features))]\n",
    "    labels = np.concatenate((labels_car, labels_noncar))\n",
    "    dataset = {\n",
    "        \"scaled_X\": scaled_X,\n",
    "        \"y\": labels\n",
    "    }\n",
    "    X_train, y_train, X_test, y_test = split_dataset(dataset, test_split_ratio=0.2)\n",
    "    clf = train_SVC(X_train, y_train, X_test, y_test)\n",
    "    accuracy = clf.score(X_test, y_test)\n",
    "    return (clf, accuracy)\n",
    "car_images = extract_images(car_partial_data_path)[\"imgs_path\"]\n",
    "noncar_images = extract_images(noncar_partial_data_path)[\"imgs_path\"]\n",
    "clf, accuracy = train_on_all_features(car_images, noncar_images)\n",
    "print(\"Test set accuracy obtained by training on all features is:\", accuracy)"
   ]
  },
  {
   "cell_type": "markdown",
   "metadata": {},
   "source": [
    "### Goal 5 - Implement a sliding-window technique and use your trained classifier to search for vehicles in images."
   ]
  },
  {
   "cell_type": "markdown",
   "metadata": {},
   "source": [
    "#### Utility method to draw bounding boxes around diagonal of pixels in an image"
   ]
  },
  {
   "cell_type": "code",
   "execution_count": 193,
   "metadata": {
    "collapsed": false
   },
   "outputs": [],
   "source": [
    "def draw_bounding_boxes(img, bboxes, color=(0, 0, 255), thick=6):\n",
    "    # make a copy of the image\n",
    "    draw_img = np.copy(img)\n",
    "    # draw each bounding box on your image copy using cv2.rectangle()\n",
    "    for box in bboxes:\n",
    "        draw_img = cv2.rectangle(draw_img, box[0], box[1], color, thick)\n",
    "    return draw_img\n",
    "# image = cv2.imread(extract_images(test_images_path)[\"imgs_path\"][0])\n",
    "# box_image = draw_bounding_boxes(image, [((200, 200), (400, 600)), ((800, 400), (950, 500))])\n",
    "# plt.imshow(image)\n",
    "# plt.show()\n",
    "# plt.imshow(box_image)\n",
    "# plt.show()"
   ]
  },
  {
   "cell_type": "markdown",
   "metadata": {},
   "source": [
    "#### Sliding window technique implementation"
   ]
  },
  {
   "cell_type": "code",
   "execution_count": 251,
   "metadata": {
    "collapsed": false
   },
   "outputs": [],
   "source": [
    "def slide_window(img, x_start_stop=[None, None], y_start_stop=[None, None], \n",
    "                    window_xy_size=(64, 64), window_xy_overlap=(0.5, 0.5)):\n",
    "    img_shape = img.shape\n",
    "    window_list = []\n",
    "    \n",
    "    # If x and/or y start/stop positions not defined, set to image size\n",
    "    if x_start_stop[0] == None:\n",
    "        x_start_stop[0] = 0\n",
    "    if x_start_stop[1] == None:\n",
    "        x_start_stop[1] = img_shape[1]\n",
    "    if y_start_stop[0] == None:\n",
    "        y_start_stop[0] = 0\n",
    "    if y_start_stop[1] == None:\n",
    "        y_start_stop[1] = img_shape[0]\n",
    "    \n",
    "    # Compute the span of the region to be searched    \n",
    "    xspan = x_start_stop[1] - x_start_stop[0]\n",
    "    yspan = y_start_stop[1] - y_start_stop[0]\n",
    "    \n",
    "    # Compute the number of pixels per step in x/y\n",
    "    nx_pix_per_step = np.int(window_xy_size[0]*(1 - window_xy_overlap[0]))\n",
    "    ny_pix_per_step = np.int(window_xy_size[1]*(1 - window_xy_overlap[1]))\n",
    "    \n",
    "    # Compute the number of windows in x/y\n",
    "    nx_buffer = np.int(window_xy_size[0]*(window_xy_overlap[0]))\n",
    "    ny_buffer = np.int(window_xy_size[1]*(window_xy_overlap[1]))\n",
    "    nx_windows = np.int((xspan-nx_buffer)/nx_pix_per_step) \n",
    "    ny_windows = np.int((yspan-ny_buffer)/ny_pix_per_step)\n",
    "    \n",
    "    for y_window in range(ny_windows):\n",
    "        for x_window in range(nx_windows):\n",
    "            # Calculate window position\n",
    "            startx = x_window*nx_pix_per_step + x_start_stop[0]\n",
    "            endx = startx + window_xy_size[0]\n",
    "            starty = y_window*ny_pix_per_step + y_start_stop[0]\n",
    "            endy = starty + window_xy_size[1]\n",
    "            \n",
    "            # Append window position to list\n",
    "            window_list.append(((startx, starty), (endx, endy)))\n",
    "    # Return the list of windows\n",
    "    return window_list\n",
    "# image = cv2.imread(extract_images(test_images_path)[\"imgs_path\"][2])\n",
    "# # window_bboxes_scale_1 = slide_window(image, y_start_stop=(int(0.5556*image.shape[0]), 0.5902*image.shape[0]), \n",
    "# #                                      window_xy_size=(64, 16), window_xy_overlap=(0, 0))\n",
    "# # window_image_scale_1 = draw_bounding_boxes(image, window_bboxes_scale_1)\n",
    "# window_bboxes_scale_2 = slide_window(image, y_start_stop=(int(0.5556*image.shape[0]), 0.9208*image.shape[0]), \n",
    "#                                      window_xy_size=(128, 128))\n",
    "# window_image_scale_2 = draw_bounding_boxes(image, window_bboxes_scale_2)\n",
    "# plt.imshow(image)\n",
    "# plt.show()\n",
    "# # plt.imshow(window_image_scale_1)\n",
    "# # plt.show()\n",
    "# plt.imshow(window_image_scale_2)\n",
    "# plt.show()"
   ]
  },
  {
   "cell_type": "markdown",
   "metadata": {},
   "source": [
    "### Run the trained classifier on boxes returned by sliding window and predict if the box contains a car or noncar"
   ]
  },
  {
   "cell_type": "markdown",
   "metadata": {},
   "source": [
    "#### Extract features for an image (here, part of an image bounded by sliding window)"
   ]
  },
  {
   "cell_type": "code",
   "execution_count": null,
   "metadata": {
    "collapsed": true
   },
   "outputs": [],
   "source": [
    "def extract_single_img_features(img, spatial_feat, spatial_feat_config, color_hist_feat, color_hist_feat_config,\n",
    "                                hog_feat, hog_feat_config):\n",
    "    features = []\n",
    "    if (spatial_feat == True or color_hist_feat=True):\n",
    "        color_features = extract_color_features([img], is_image_path=False, \n",
    "                                        spatial_feat=spatial_feat, colorspace=spatial_feat_config[\"colorspace\"],\n",
    "                                       spatial_size=spatial_feat_config[\"spatial_size\"], hist_feat=hist_feat,\n",
    "                                       hist_bins=color_hist_feat_config[\"hist_bins\"], \n",
    "                                        hist_range=color_hist_feat_config[\"hist_range\"])\n",
    "        features.append(color_features)\n",
    "\n",
    "    if (hog_feat == True): \n",
    "        hog_features = extract_hog_features([img], is_img_path=False, orient=hog_feat_config[\"orient\"],\n",
    "                                           pix_per_cell=hog_feat_config[\"pix_per_cell\"],\n",
    "                                           cell_per_block=hog_feat_config[\"cell_per_block\"],\n",
    "                                           hog_channel=hog_feat_config[\"hog_channel\"])\n",
    "        features.append(hog_features)\n",
    "        \n",
    "    return np.concatenate(features)"
   ]
  },
  {
   "cell_type": "markdown",
   "metadata": {},
   "source": [
    "#### Run the trained classifier and predict car/noncar class"
   ]
  },
  {
   "cell_type": "code",
   "execution_count": 257,
   "metadata": {
    "collapsed": false
   },
   "outputs": [],
   "source": [
    "def predict_class(img, clf, scaler):\n",
    "    img_features = extract_img_features(img, spatial_feat=spatial_feat, spatial_feat_config=spatial_feat_config, \n",
    "                                        color_hist_feat=color_hist_feat, color_hist_feat_config=color_hist_feat_config,\n",
    "                                        hog_feat=hog_feat, hog_feat_config=hog_feat_config)\n",
    "    #Scale and normalize the features\n",
    "    img_features = scaler.transform(np.array(features).reshape(1, -1))\n",
    "    #Predict class\n",
    "    pred = clf.pred(img_features)\n",
    "    return pred"
   ]
  },
  {
   "cell_type": "markdown",
   "metadata": {},
   "source": [
    "#### Extract image section from bounding boxes of windows detected by sliding window algorithm"
   ]
  },
  {
   "cell_type": "code",
   "execution_count": 262,
   "metadata": {
    "collapsed": false
   },
   "outputs": [],
   "source": [
    "def extract_imgs_from_windows(original_img, windows):\n",
    "    imgs = []\n",
    "    for window in windows:\n",
    "        imgs.append(cv2.resize(original_img[window[0][1]:window[1][1], window[0][0]:window[1][0]], (64, 64)))\n",
    "    return imgs\n",
    "# image = cv2.imread(extract_images(test_images_path)[\"imgs_path\"][0])\n",
    "# window_bboxes = slide_window(image, y_start_stop=(int(0.5556*image.shape[0]), 0.9208*image.shape[0]), \n",
    "#                                      window_xy_size=(128, 128))\n",
    "# window_imgs = extract_imgs_from_windows(image, window_bboxes)\n",
    "# plt.imshow(image)\n",
    "# plt.show()\n",
    "# for img in window_imgs:\n",
    "#     plt.imshow(img)\n",
    "#     plt.show()"
   ]
  },
  {
   "cell_type": "markdown",
   "metadata": {},
   "source": [
    "#### Draw bounding boxes on areas where cars are detected"
   ]
  },
  {
   "cell_type": "code",
   "execution_count": 263,
   "metadata": {
    "collapsed": true
   },
   "outputs": [],
   "source": [
    "def draw_predicted_cars(original_img, clf, scaler):\n",
    "    #Declare and define feature extraction configuration paramters\n",
    "    spatial_feat_config = {\n",
    "        \"colorspace\": [\"BGR\"],\n",
    "        \"spatial_size\": (32, 32)\n",
    "    }\n",
    "    color_hist_feat_config = {\n",
    "        \"hist_bins\": 32,\n",
    "        \"hist_range\": (0, 256)\n",
    "    }\n",
    "    hog_feat_config = {\n",
    "        \"orient\": 9,\n",
    "        \"pix_per_cell\": 8,\n",
    "        \"cell_per_block\": 2,\n",
    "        \"hog_channel\": \"ALL\"\n",
    "    }\n",
    "    window_bboxes = slide_window(original_img, y_start_stop=(int(0.5556*original_img.shape[0]), 0.9208*original_img.shape[0]), \n",
    "                                      window_xy_size=(128, 128))\n",
    "    window_imgs = extract_imgs_from_windows(original_img, window_bboxes)\n",
    "    for window_img in window_imgs:\n",
    "        predict_class(window_img, clf, scaler, spatial_feat=True, spatial_feat_config=spatial_feat_config, \n",
    "                      color_hist_feat=True, color_hist_feat_config=color_hist_feat_config,\n",
    "                      hog_feat=True, hog_feat_config=hog_feat_config)\n"
   ]
  },
  {
   "cell_type": "markdown",
   "metadata": {},
   "source": [
    "### Goal 6 - Run your pipeline on a video stream and create a heat map of recurring detections frame by frame to reject outliers and follow detected vehicles."
   ]
  },
  {
   "cell_type": "markdown",
   "metadata": {},
   "source": [
    "### Goal 7 - Estimate a bounding box for vehicles detected."
   ]
  },
  {
   "cell_type": "code",
   "execution_count": null,
   "metadata": {
    "collapsed": true
   },
   "outputs": [],
   "source": []
  }
 ],
 "metadata": {
  "anaconda-cloud": {},
  "kernelspec": {
   "display_name": "Python 3",
   "language": "python",
   "name": "python3"
  },
  "language_info": {
   "codemirror_mode": {
    "name": "ipython",
    "version": 3
   },
   "file_extension": ".py",
   "mimetype": "text/x-python",
   "name": "python",
   "nbconvert_exporter": "python",
   "pygments_lexer": "ipython3",
   "version": "3.5.2"
  },
  "widgets": {
   "state": {},
   "version": "1.1.2"
  }
 },
 "nbformat": 4,
 "nbformat_minor": 1
}
