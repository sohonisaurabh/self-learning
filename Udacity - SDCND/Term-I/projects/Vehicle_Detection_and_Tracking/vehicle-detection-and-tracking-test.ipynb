{
 "cells": [
  {
   "cell_type": "markdown",
   "metadata": {
    "deletable": true,
    "editable": true
   },
   "source": [
    "# Self-Driving Car Engineer Nanodegree\n",
    "\n",
    "## Computer Vision\n",
    "\n",
    "## Project: Vehicle Detection and Tracking"
   ]
  },
  {
   "cell_type": "markdown",
   "metadata": {
    "deletable": true,
    "editable": true
   },
   "source": [
    "### Starter code"
   ]
  },
  {
   "cell_type": "markdown",
   "metadata": {
    "deletable": true,
    "editable": true
   },
   "source": [
    "#### Import of libraries"
   ]
  },
  {
   "cell_type": "code",
   "execution_count": 42,
   "metadata": {
    "collapsed": false,
    "deletable": true,
    "editable": true
   },
   "outputs": [],
   "source": [
    "import glob\n",
    "import numpy as np\n",
    "import cv2\n",
    "import matplotlib.pyplot as plt\n",
    "from skimage.feature import hog\n",
    "from sklearn.preprocessing import StandardScaler\n",
    "#from sklearn.cross_validation import train_test_split\n",
    "from sklearn.model_selection import train_test_split\n",
    "from sklearn.svm import LinearSVC\n",
    "import time\n",
    "from moviepy.editor import VideoFileClip\n"
   ]
  },
  {
   "cell_type": "markdown",
   "metadata": {
    "deletable": true,
    "editable": true
   },
   "source": [
    "#### Declaration of global variables"
   ]
  },
  {
   "cell_type": "code",
   "execution_count": 43,
   "metadata": {
    "collapsed": true,
    "deletable": true,
    "editable": true
   },
   "outputs": [],
   "source": [
    "car_complete_data_path = \"complete-dataset/vehicles/*.png\"\n",
    "noncar_complete_data_path = \"complete-dataset/non-vehicles/*.png\"\n",
    "car_partial_data_path = \"partial-dataset/vehicles/*.jpeg\"\n",
    "noncar_partial_data_path = \"partial-dataset/non-vehicles/*.jpeg\"\n",
    "test_images_path = \"test_images/*.jpg\""
   ]
  },
  {
   "cell_type": "markdown",
   "metadata": {
    "deletable": true,
    "editable": true
   },
   "source": [
    "#### Extract images using glob"
   ]
  },
  {
   "cell_type": "code",
   "execution_count": 44,
   "metadata": {
    "collapsed": false,
    "deletable": true,
    "editable": true
   },
   "outputs": [],
   "source": [
    "def extract_images(imgs_path, return_path_only=True):\n",
    "    images = []\n",
    "    images_path = glob.glob(imgs_path)\n",
    "    if (return_path_only == False):\n",
    "        for image_path in images_path:\n",
    "            image = cv2.imread(image_path)\n",
    "            images.append(image)\n",
    "    images = np.array(images)\n",
    "    return_dict = {\n",
    "        \"imgs_path\": images_path,\n",
    "        \"imgs\": images\n",
    "    }\n",
    "    return return_dict\n",
    "# extract = extract_images(car_partial_data_path, return_path_only=False)\n",
    "# print(len(extract[\"imgs_path\"]))\n",
    "# print(len(extract[\"imgs\"]))\n",
    "# plt.imshow(extract[imgs][0])\n",
    "# plt.show()"
   ]
  },
  {
   "cell_type": "markdown",
   "metadata": {
    "deletable": true,
    "editable": true
   },
   "source": [
    "#### Dataset exploration"
   ]
  },
  {
   "cell_type": "code",
   "execution_count": 45,
   "metadata": {
    "collapsed": false,
    "deletable": true,
    "editable": true
   },
   "outputs": [],
   "source": [
    "def explore_data(car_list, notcar_list):\n",
    "    data_dict = {}\n",
    "    # Define a key in data_dict \"n_cars\" and store the number of car images\n",
    "    data_dict[\"n_cars\"] = len(car_list)\n",
    "    # Define a key \"n_notcars\" and store the number of notcar images\n",
    "    data_dict[\"n_notcars\"] = len(notcar_list)\n",
    "    # Read in a test image, either car or notcar\n",
    "    test_img = cv2.imread(car_list[0])\n",
    "    shape = test_img.shape\n",
    "    # Define a key \"image_shape\" and store the test image shape 3-tuple\n",
    "    data_dict[\"image_shape\"] = shape\n",
    "    # Define a key \"data_type\" and store the data type of the test image.\n",
    "    data_dict[\"data_type\"] = test_img.dtype\n",
    "    # Return data_dict\n",
    "    return data_dict\n",
    "# cars = extract_images(car_partial_data_path)[\"imgs_path\"]\n",
    "# noncars = extract_images(noncar_partial_data_path)[\"imgs_path\"]\n",
    "# exploration = explore_data(cars, noncars)\n",
    "# print(exploration)"
   ]
  },
  {
   "cell_type": "markdown",
   "metadata": {
    "deletable": true,
    "editable": true
   },
   "source": [
    "###  Goal 1 - Perform a Histogram of Oriented Gradients (HOG) feature extraction on a labeled training set of images"
   ]
  },
  {
   "cell_type": "code",
   "execution_count": 63,
   "metadata": {
    "collapsed": false,
    "deletable": true,
    "editable": true
   },
   "outputs": [],
   "source": [
    "def hog_features(img, orient=9, pix_per_cell=8, cell_per_block=2, do_transform_sqrt=True, visualization=False, feature_vec=True):\n",
    "    if visualization == True:\n",
    "        # Use skimage.hog() to get both features and a visualization\n",
    "        features, hog_image = hog(img, orientations=orient, pixels_per_cell=(pix_per_cell, pix_per_cell), cells_per_block=(cell_per_block, cell_per_block), visualise=visualization, feature_vector=feature_vec)\n",
    "    else:      \n",
    "        # Use skimage.hog() to get features only\n",
    "        features = hog(img, orientations=orient, pixels_per_cell=(pix_per_cell, pix_per_cell), cells_per_block=(cell_per_block, cell_per_block), transform_sqrt=do_transform_sqrt, visualise=visualization, feature_vector=feature_vec)\n",
    "        hog_image = None\n",
    "    return features, hog_image\n",
    "# image = extract_images(car_partial_data_path, return_path_only=False)[\"imgs\"][0]\n",
    "# gray = cv2.cvtColor(image, cv2.COLOR_BGR2GRAY)\n",
    "# hog_features, hog_image = hog_features(gray, orient=9, pix_per_cell=8, cell_per_block=2, visualization=True)\n",
    "# plt.imshow(image)\n",
    "# plt.show()\n",
    "# plt.imshow(hog_image, cmap=\"gray\")\n",
    "# plt.show()"
   ]
  },
  {
   "cell_type": "markdown",
   "metadata": {
    "deletable": true,
    "editable": true
   },
   "source": [
    "#### Extract HOG features from a set of images and create feature vector for each image"
   ]
  },
  {
   "cell_type": "code",
   "execution_count": 47,
   "metadata": {
    "collapsed": false,
    "deletable": true,
    "editable": true
   },
   "outputs": [],
   "source": [
    "def extract_hog_features(imgs, is_image_path=True, color_space=\"HSV\", orient=9, pix_per_cell=8, cell_per_block=2, hog_channel=\"ALL\", do_transform_sqrt=True, visualization=False, feature_vec=True):\n",
    "    features = []\n",
    "    original_color_space = \"BGR\"\n",
    "    for img in imgs:\n",
    "        if (is_image_path == True):\n",
    "            img = cv2.imread(img)\n",
    "        if (color_space != original_color_space):\n",
    "            img = cv2.cvtColor(img, eval(\"cv2.COLOR_BGR2\" + color_space))\n",
    "        if (hog_channel == \"ALL\"):\n",
    "            img_features = []\n",
    "            for channel in range(img.shape[2]): \n",
    "                img_features.extend(hog_features(img[:,:,channel], orient=orient, pix_per_cell=pix_per_cell, \n",
    "                                cell_per_block=cell_per_block, do_transform_sqrt=do_transform_sqrt, visualization=visualization)[0])\n",
    "        else:\n",
    "            img_features = hog_features(img[:,:, hog_channel], orient=orient, pix_per_cell=pix_per_cell, \n",
    "                                cell_per_block=cell_per_block, visualization=visualization)[0]\n",
    "        features.append(img_features)\n",
    "    return np.array(features)\n",
    "# images = cv2.imread(extract_images(car_partial_data_path)[\"imgs_path\"][0])\n",
    "# features = extract_hog_features([images], is_image_path=False, orient=9, pix_per_cell=8, cell_per_block=2, hog_channel=0)\n",
    "# print(len(features))\n",
    "# print(features[0])"
   ]
  },
  {
   "cell_type": "markdown",
   "metadata": {
    "deletable": true,
    "editable": true
   },
   "source": [
    "### Goal 2 - Apply a color transform and extract binned color features, as well as histograms of color."
   ]
  },
  {
   "cell_type": "markdown",
   "metadata": {
    "deletable": true,
    "editable": true
   },
   "source": [
    "#### Spatial binning of images"
   ]
  },
  {
   "cell_type": "code",
   "execution_count": 48,
   "metadata": {
    "collapsed": false,
    "deletable": true,
    "editable": true
   },
   "outputs": [],
   "source": [
    "def bin_spatial(img, size=(32, 32)):\n",
    "    # Use cv2.resize().ravel() to create the feature vector\n",
    "    features = cv2.resize(img, size).ravel() \n",
    "    # Return the feature vector\n",
    "    return features\n",
    "# image = extract_images(car_partial_data_path, return_path_only=False)[\"imgs\"][0]\n",
    "# bin_features = bin_spatial(image, size=(32, 32))\n",
    "# print(len(bin_features))"
   ]
  },
  {
   "cell_type": "markdown",
   "metadata": {
    "deletable": true,
    "editable": true
   },
   "source": [
    "#### Histogram of color"
   ]
  },
  {
   "cell_type": "code",
   "execution_count": 49,
   "metadata": {
    "collapsed": false,
    "deletable": true,
    "editable": true
   },
   "outputs": [],
   "source": [
    "def color_hist(img, nbins=32, bins_range=(0, 256)):\n",
    "    # Compute the histogram of the color channels separately\n",
    "    channel1_hist = np.histogram(img[:,:,0], bins=nbins, range=bins_range)\n",
    "    channel2_hist = np.histogram(img[:,:,1], bins=nbins, range=bins_range)\n",
    "    channel3_hist = np.histogram(img[:,:,2], bins=nbins, range=bins_range)\n",
    "    # Concatenate the histograms into a single feature vector\n",
    "    hist_features = np.concatenate((channel1_hist[0], channel2_hist[0], channel3_hist[0]))\n",
    "    # Return the individual histograms, bin_centers and feature vector\n",
    "    return hist_features\n",
    "# image = extract_images(car_partial_data_path, return_path_only=False)[\"imgs\"][0]\n",
    "# hist_features = color_hist(image, nbins=32, bins_range=(0, 256))\n",
    "# print(len(hist_features))"
   ]
  },
  {
   "cell_type": "markdown",
   "metadata": {
    "deletable": true,
    "editable": true
   },
   "source": [
    "#### Extract color features obtained from spatial binning and histogram of color and merge them into single feature vector for an image"
   ]
  },
  {
   "cell_type": "code",
   "execution_count": 50,
   "metadata": {
    "collapsed": false,
    "deletable": true,
    "editable": true
   },
   "outputs": [],
   "source": [
    "def extract_color_features(imgs, is_image_path=True, spatial_feat=True, hist_feat=True, colorspace=['BGR'], \n",
    "                           spatial_size=(32, 32),\n",
    "                        hist_bins=32, hist_range=(0, 256)):\n",
    "    original_color_space = 'BGR'\n",
    "    # Create a list to append feature vectors to\n",
    "    features = []\n",
    "    # Iterate through the list of images\n",
    "        # Read in each one by one\n",
    "        # apply color conversion if other than 'RGB'\n",
    "        # Apply bin_spatial() to get spatial color features\n",
    "        # Apply color_hist() to get color histogram features\n",
    "        # Append the new feature vector to the features list\n",
    "    for img in imgs:\n",
    "        if (is_image_path):\n",
    "            img = cv2.imread(img)\n",
    "        if (spatial_feat):\n",
    "            bin_features_cspace = []\n",
    "            for cspace in colorspace:\n",
    "                if (cspace != original_color_space):\n",
    "                    img = cv2.cvtColor(img, eval(\"cv2.COLOR_BGR2\" + cspace))\n",
    "                bin_features_cspace.append(bin_spatial(img, spatial_size))\n",
    "            bin_features = [y for x in bin_features_cspace for y in x]\n",
    "        if (hist_feat):\n",
    "            color_hist_features_cspace = []\n",
    "            color_hist_features_cspace.append(color_hist(img, hist_bins, hist_range))\n",
    "            color_hist_features = [y for x in color_hist_features_cspace for y in x]\n",
    "        features.append(np.concatenate((bin_features, color_hist_features)))\n",
    "    # Return list of feature vectors\n",
    "    return np.array(features)\n",
    "# image = extract_images(car_partial_data_path)[\"imgs_path\"][0:2]\n",
    "# features = extract_color_features(image, spatial_feat=True, hist_feat=True, colorspace=['BGR', 'HSV'] , spatial_size=(16, 16), hist_bins=64, hist_range=(0, 256))\n",
    "# print(len(features))"
   ]
  },
  {
   "cell_type": "markdown",
   "metadata": {
    "deletable": true,
    "editable": true
   },
   "source": [
    "### Goal 3 - Normalization of features and randomize a selection for training and testing."
   ]
  },
  {
   "cell_type": "markdown",
   "metadata": {
    "deletable": true,
    "editable": true
   },
   "source": [
    "#### Normalization of features"
   ]
  },
  {
   "cell_type": "code",
   "execution_count": 51,
   "metadata": {
    "collapsed": false,
    "deletable": true,
    "editable": true
   },
   "outputs": [],
   "source": [
    "def normalize_features(features, return_raw_features=False):\n",
    "    # Create an array stack of feature vectors\n",
    "    X = np.vstack(features).astype(np.float64)\n",
    "    # Fit a per-column scaler\n",
    "    X_scaler = StandardScaler().fit(X)\n",
    "    # Apply the scaler to X\n",
    "    scaled_X = X_scaler.transform(X)\n",
    "    if (return_raw_features):\n",
    "        return_val = (scaled_X, X_scaler, X)\n",
    "    else:\n",
    "        return_val = (scaled_X, X_scaler)\n",
    "    return return_val\n",
    "# car_images = extract_images(car_partial_data_path)[\"imgs_path\"]\n",
    "# car_features = extract_color_features(car_images, colorspace=['BGR'] , spatial_size=(32, 32), hist_bins=32, hist_range=(0, 256))\n",
    "# noncar_images = extract_images(noncar_partial_data_path)[\"imgs_path\"]\n",
    "# noncar_features = extract_color_features(noncar_images, colorspace=['BGR'] , spatial_size=(32, 32), hist_bins=32, hist_range=(0, 256))\n",
    "# combined_features = (car_features, noncar_features)\n",
    "# normalized_features, scaler, X = normalize_features(combined_features, return_raw_features=True)\n",
    "# fig = plt.figure(figsize=(12,4))\n",
    "# plt.subplot(131)\n",
    "# plt.imshow(cv2.imread(car_images[100]))\n",
    "# plt.title('Original Image')\n",
    "# plt.subplot(132)\n",
    "# plt.plot(X[100])\n",
    "# plt.title('Raw Features')\n",
    "# plt.subplot(133)\n",
    "# plt.plot(normalized_features[100])\n",
    "# plt.title('Normalized Features')\n",
    "# fig.tight_layout()\n",
    "# plt.show()\n",
    "# print(\"Number of cars/carsfeatures are:\", len(car_features), \"Number of noncars/noncars features are:\", len(noncar_features), \"Number of normalized vectors are:\", len(normalized_features))"
   ]
  },
  {
   "cell_type": "markdown",
   "metadata": {
    "deletable": true,
    "editable": true
   },
   "source": [
    "#### Create training, validation and testing dataset by splitting the whole dataset"
   ]
  },
  {
   "cell_type": "code",
   "execution_count": 52,
   "metadata": {
    "collapsed": false,
    "deletable": true,
    "editable": true
   },
   "outputs": [],
   "source": [
    "def split_dataset(dataset, test_split_ratio=0.2):\n",
    "    rand_state = np.random.randint(0, 100)\n",
    "    X_train, X_test, y_train, y_test = train_test_split(dataset[\"scaled_X\"], dataset[\"y\"], \n",
    "                                                        test_size=test_split_ratio, random_state=rand_state)\n",
    "    return (X_train, y_train, X_test, y_test)\n",
    "# car_images = extract_images(car_partial_data_path)[\"imgs_path\"]\n",
    "# car_features = extract_color_features(car_images, colorspace=['BGR'] , spatial_size=(32, 32), hist_bins=32, hist_range=(0, 256))\n",
    "# noncar_images = extract_images(noncar_partial_data_path)[\"imgs_path\"]\n",
    "# noncar_features = extract_color_features(noncar_images, colorspace=['BGR'] , spatial_size=(32, 32), hist_bins=32, hist_range=(0, 256))\n",
    "# scaled_X, scaler = normalize_features((car_features, noncar_features))\n",
    "# labels_car = [1 for i in range(len(car_images))]\n",
    "# labels_noncar = [0 for i in range(len(noncar_images))]\n",
    "# labels = np.concatenate((labels_car, labels_noncar))\n",
    "# dataset = {\n",
    "#     \"scaled_X\": scaled_X,\n",
    "#     \"y\": labels\n",
    "# }\n",
    "# X_train, y_train, X_test, y_test = split_dataset(dataset, test_split_ratio=0.2)\n",
    "# print(len(X_train), len(y_train), len(X_test), len(y_test))"
   ]
  },
  {
   "cell_type": "markdown",
   "metadata": {
    "deletable": true,
    "editable": true
   },
   "source": [
    "### Goal 4 - Train a classifier Linear SVM classifier on extracted features"
   ]
  },
  {
   "cell_type": "markdown",
   "metadata": {
    "deletable": true,
    "editable": true
   },
   "source": [
    "#### Train a linear SVM classifier and measure the accuracy on test set"
   ]
  },
  {
   "cell_type": "code",
   "execution_count": 53,
   "metadata": {
    "collapsed": false,
    "deletable": true,
    "editable": true
   },
   "outputs": [],
   "source": [
    "def train_SVC(X_train, y_train, X_test, y_test):\n",
    "    svc = LinearSVC()\n",
    "    t=time.time()\n",
    "    svc.fit(X_train, y_train)\n",
    "    t2 = time.time()\n",
    "    print(round(t2-t, 2), 'Seconds to train SVC...')\n",
    "    return svc\n",
    "# car_images = extract_images(car_partial_data_path)[\"imgs_path\"]\n",
    "# car_features = extract_color_features(car_images, colorspace=['BGR'] , spatial_size=(32, 32), hist_bins=32, hist_range=(0, 256))\n",
    "# noncar_images = extract_images(noncar_partial_data_path)[\"imgs_path\"]\n",
    "# noncar_features = extract_color_features(noncar_images, colorspace=['BGR'] , spatial_size=(32, 32), hist_bins=32, hist_range=(0, 256))\n",
    "# scaled_X, scaler = normalize_features((car_features, noncar_features))\n",
    "# labels_car = [1 for i in range(len(car_images))]\n",
    "# labels_noncar = [0 for i in range(len(noncar_images))]\n",
    "# labels = np.concatenate((labels_car, labels_noncar))\n",
    "# dataset = {\n",
    "#     \"scaled_X\": scaled_X,\n",
    "#     \"y\": labels\n",
    "# }\n",
    "# X_train, y_train, X_test, y_test = split_dataset(dataset, test_split_ratio=0.2)\n",
    "# clf = train_SVC(X_train, y_train, X_test, y_test)\n",
    "#accuracy = clf.score(X_test, y_test)\n",
    "# print(accuracy)"
   ]
  },
  {
   "cell_type": "markdown",
   "metadata": {
    "deletable": true,
    "editable": true
   },
   "source": [
    "#### Train SVC classifier on extracted color features only"
   ]
  },
  {
   "cell_type": "code",
   "execution_count": 54,
   "metadata": {
    "collapsed": false,
    "deletable": true,
    "editable": true
   },
   "outputs": [],
   "source": [
    "def train_on_color_features(car_imgs_path, noncar_imgs_path):\n",
    "    \n",
    "    car_features = extract_color_features(car_imgs_path, spatial_feat=True, hist_feat=True, colorspace=['HSV'] , spatial_size=(16, 16), hist_bins=64, hist_range=(0, 256))\n",
    "    \n",
    "    noncar_features = extract_color_features(noncar_imgs_path, colorspace=['HSV'] , spatial_size=(16, 16), hist_bins=64, hist_range=(0, 256))\n",
    "    \n",
    "    scaled_X, scaler = normalize_features((car_features, noncar_features))\n",
    "    labels_car = [1 for i in range(len(car_features))]\n",
    "    labels_noncar = [0 for i in range(len(noncar_features))]\n",
    "    labels = np.concatenate((labels_car, labels_noncar))\n",
    "    dataset = {\n",
    "        \"scaled_X\": scaled_X,\n",
    "        \"y\": labels\n",
    "    }\n",
    "    X_train, y_train, X_test, y_test = split_dataset(dataset, test_split_ratio=0.2)\n",
    "    clf = train_SVC(X_train, y_train, X_test, y_test)\n",
    "    color_accuracy = clf.score(X_test, y_test)\n",
    "    return (clf, scaler, color_accuracy)\n",
    "# car_images = extract_images(car_partial_data_path)[\"imgs_path\"]\n",
    "# noncar_images = extract_images(noncar_partial_data_path)[\"imgs_path\"]\n",
    "# clf, scaler, color_accuracy = train_on_color_features(car_images, noncar_images)\n",
    "# print(\"Test set accuracy obtained by training on color features only is:\", color_accuracy)"
   ]
  },
  {
   "cell_type": "markdown",
   "metadata": {
    "deletable": true,
    "editable": true
   },
   "source": [
    "#### Train SVC on extracted HOG features only"
   ]
  },
  {
   "cell_type": "code",
   "execution_count": 66,
   "metadata": {
    "collapsed": false,
    "deletable": true,
    "editable": true
   },
   "outputs": [],
   "source": [
    "def train_on_hog_features(car_imgs_path, noncar_imgs_path):\n",
    "    \n",
    "    car_hog_features = extract_hog_features(car_imgs_path, hog_channel=\"ALL\", color_space=\"HSV\" ,orient=9, pix_per_cell=8, cell_per_block=2)\n",
    "    \n",
    "    noncar_hog_features = extract_hog_features(noncar_imgs_path, hog_channel=\"ALL\", color_space=\"HSV\", orient=9, pix_per_cell=8, cell_per_block=2)\n",
    "    \n",
    "    scaled_X, scaler = normalize_features((car_hog_features, noncar_hog_features))\n",
    "    labels_car = [1 for i in range(len(car_hog_features))]\n",
    "    labels_noncar = [0 for i in range(len(noncar_hog_features))]\n",
    "    labels = np.concatenate((labels_car, labels_noncar))\n",
    "    dataset = {\n",
    "        \"scaled_X\": scaled_X,\n",
    "        \"y\": labels\n",
    "    }\n",
    "    X_train, y_train, X_test, y_test = split_dataset(dataset, test_split_ratio=0.2)\n",
    "    clf =  train_SVC(X_train, y_train, X_test, y_test)\n",
    "    hog_accuracy = clf.score(X_test, y_test)\n",
    "    return (clf, scaler, hog_accuracy)\n",
    "# car_images = extract_images(car_partial_data_path)[\"imgs_path\"]\n",
    "# noncar_images = extract_images(noncar_partial_data_path)[\"imgs_path\"]\n",
    "# clf, scaler, hog_accuracy = train_on_hog_features(car_images, noncar_images)\n",
    "# print(\"Test set accuracy obtained by training on HOG features only is:\", hog_accuracy)"
   ]
  },
  {
   "cell_type": "markdown",
   "metadata": {
    "deletable": true,
    "editable": true
   },
   "source": [
    "#### Train SVC on all features extracted (In this case, color and HOG features)"
   ]
  },
  {
   "cell_type": "code",
   "execution_count": 77,
   "metadata": {
    "collapsed": false,
    "deletable": true,
    "editable": true
   },
   "outputs": [],
   "source": [
    "def train_on_all_features(car_imgs_path, noncar_imgs_path):\n",
    "    car_hog_features = extract_hog_features(car_imgs_path, color_space=\"HSV\", orient=9, pix_per_cell=8, cell_per_block=2)\n",
    "    car_color_features = extract_color_features(car_imgs_path, spatial_feat=True, hist_feat=True, colorspace=[\"BGR\", \"HSV\"] , spatial_size=(16, 16), hist_bins=64, hist_range=(0, 256))\n",
    "    \n",
    "    noncar_hog_features = extract_hog_features(noncar_imgs_path, color_space=\"HSV\", orient=9, pix_per_cell=8, cell_per_block=2)\n",
    "    noncar_color_features = extract_color_features(noncar_imgs_path, colorspace=[\"BGR\", \"HSV\"] , spatial_size=(16, 16), hist_bins=64, hist_range=(0, 256))\n",
    "    \n",
    "    car_all_features = np.concatenate((car_color_features, car_hog_features), axis=1)\n",
    "    noncar_all_features = np.concatenate((noncar_color_features, noncar_hog_features), axis=1)\n",
    "    \n",
    "    scaled_X, scaler = normalize_features((car_all_features, noncar_all_features))\n",
    "    labels_car = [1 for i in range(len(car_hog_features))]\n",
    "    labels_noncar = [0 for i in range(len(noncar_hog_features))]\n",
    "    labels = np.concatenate((labels_car, labels_noncar))\n",
    "    dataset = {\n",
    "        \"scaled_X\": scaled_X,\n",
    "        \"y\": labels\n",
    "    }\n",
    "    X_train, y_train, X_test, y_test = split_dataset(dataset, test_split_ratio=0.2)\n",
    "    clf = train_SVC(X_train, y_train, X_test, y_test)\n",
    "    accuracy = clf.score(X_test, y_test)\n",
    "    return (clf, scaler, accuracy)\n",
    "# car_images = extract_images(car_partial_data_path)[\"imgs_path\"]\n",
    "# noncar_images = extract_images(noncar_partial_data_path)[\"imgs_path\"]\n",
    "# clf, scaler, accuracy = train_on_all_features(car_images, noncar_images)\n",
    "# print(\"Test set accuracy obtained by training on all features is:\", accuracy)"
   ]
  },
  {
   "cell_type": "markdown",
   "metadata": {
    "deletable": true,
    "editable": true
   },
   "source": [
    "### Goal 5 - Implement a sliding-window technique and use your trained classifier to search for vehicles in images."
   ]
  },
  {
   "cell_type": "markdown",
   "metadata": {
    "deletable": true,
    "editable": true
   },
   "source": [
    "#### Utility method to draw bounding boxes around diagonal of pixels in an image"
   ]
  },
  {
   "cell_type": "code",
   "execution_count": 57,
   "metadata": {
    "collapsed": false,
    "deletable": true,
    "editable": true
   },
   "outputs": [],
   "source": [
    "def draw_bounding_boxes(img, bboxes, color=(0, 0, 255), thick=6):\n",
    "    # make a copy of the image\n",
    "    draw_img = np.copy(img)\n",
    "    # draw each bounding box on your image copy using cv2.rectangle()\n",
    "    for box in bboxes:\n",
    "        draw_img = cv2.rectangle(draw_img, box[0], box[1], color, thick)\n",
    "    return draw_img\n",
    "# image = cv2.imread(extract_images(test_images_path)[\"imgs_path\"][0])\n",
    "# box_image = draw_bounding_boxes(image, [((200, 200), (400, 600)), ((800, 400), (950, 500))])\n",
    "# plt.imshow(image)\n",
    "# plt.show()\n",
    "# plt.imshow(box_image)\n",
    "# plt.show()"
   ]
  },
  {
   "cell_type": "markdown",
   "metadata": {
    "deletable": true,
    "editable": true
   },
   "source": [
    "#### Sliding window technique implementation"
   ]
  },
  {
   "cell_type": "code",
   "execution_count": 58,
   "metadata": {
    "collapsed": false,
    "deletable": true,
    "editable": true
   },
   "outputs": [],
   "source": [
    "def slide_window(img, x_start_stop=[None, None], y_start_stop=[None, None], \n",
    "                    window_xy_size=(64, 64), window_xy_overlap=(0.5, 0.5)):\n",
    "    img_shape = img.shape\n",
    "    window_list = []\n",
    "    \n",
    "    # If x and/or y start/stop positions not defined, set to image size\n",
    "    if x_start_stop[0] == None:\n",
    "        x_start_stop[0] = 0\n",
    "    if x_start_stop[1] == None:\n",
    "        x_start_stop[1] = img_shape[1]\n",
    "    if y_start_stop[0] == None:\n",
    "        y_start_stop[0] = 0\n",
    "    if y_start_stop[1] == None:\n",
    "        y_start_stop[1] = img_shape[0]\n",
    "    \n",
    "    # Compute the span of the region to be searched    \n",
    "    xspan = x_start_stop[1] - x_start_stop[0]\n",
    "    yspan = y_start_stop[1] - y_start_stop[0]\n",
    "    \n",
    "    # Compute the number of pixels per step in x/y\n",
    "    nx_pix_per_step = np.int(window_xy_size[0]*(1 - window_xy_overlap[0]))\n",
    "    ny_pix_per_step = np.int(window_xy_size[1]*(1 - window_xy_overlap[1]))\n",
    "    \n",
    "    # Compute the number of windows in x/y\n",
    "    nx_buffer = np.int(window_xy_size[0]*(window_xy_overlap[0]))\n",
    "    ny_buffer = np.int(window_xy_size[1]*(window_xy_overlap[1]))\n",
    "    nx_windows = np.int((xspan-nx_buffer)/nx_pix_per_step) \n",
    "    ny_windows = np.int((yspan-ny_buffer)/ny_pix_per_step)\n",
    "    \n",
    "    for y_window in range(ny_windows):\n",
    "        for x_window in range(nx_windows):\n",
    "            # Calculate window position\n",
    "            startx = x_window*nx_pix_per_step + x_start_stop[0]\n",
    "            endx = startx + window_xy_size[0]\n",
    "            starty = y_window*ny_pix_per_step + y_start_stop[0]\n",
    "            endy = starty + window_xy_size[1]\n",
    "            \n",
    "            # Append window position to list\n",
    "            window_list.append(((startx, starty), (endx, endy)))\n",
    "    # Return the list of windows\n",
    "    return window_list\n",
    "# image = cv2.imread(extract_images(test_images_path)[\"imgs_path\"][0])\n",
    "# # window_bboxes_scale_1 = slide_window(image, y_start_stop=(int(0.5556*image.shape[0]), 0.5902*image.shape[0]), \n",
    "# #                                      window_xy_size=(64, 16), window_xy_overlap=(0, 0))\n",
    "# # window_image_scale_1 = draw_bounding_boxes(image, window_bboxes_scale_1)\n",
    "# window_bboxes_scale_2 = slide_window(image, y_start_stop=(int(0.5556*image.shape[0]), 0.7639*image.shape[0]), \n",
    "#                                      window_xy_size=(512, 128), window_xy_overlap=(0.5, 0))\n",
    "# window_image_scale_2 = draw_bounding_boxes(image, window_bboxes_scale_2)\n",
    "# plt.imshow(image)\n",
    "# plt.show()\n",
    "# # plt.imshow(window_image_scale_1)\n",
    "# # plt.show()\n",
    "# plt.imshow(window_image_scale_2)\n",
    "# plt.show()"
   ]
  },
  {
   "cell_type": "markdown",
   "metadata": {
    "deletable": true,
    "editable": true
   },
   "source": [
    "### Run the trained classifier on boxes returned by sliding window and predict if the box contains a car or noncar"
   ]
  },
  {
   "cell_type": "markdown",
   "metadata": {
    "deletable": true,
    "editable": true
   },
   "source": [
    "#### Extract features for an image (here, part of an image bounded by sliding window)"
   ]
  },
  {
   "cell_type": "code",
   "execution_count": 59,
   "metadata": {
    "collapsed": false,
    "deletable": true,
    "editable": true
   },
   "outputs": [],
   "source": [
    "def extract_single_img_features(img, spatial_feat, spatial_feat_config, color_hist_feat, color_hist_feat_config,\n",
    "                                hog_feat, hog_feat_config):\n",
    "    features = []\n",
    "    if (spatial_feat == True or color_hist_feat == True):\n",
    "        color_features = extract_color_features([img], is_image_path=False, \n",
    "                                        spatial_feat=spatial_feat, colorspace=spatial_feat_config[\"colorspace\"],\n",
    "                                       spatial_size=spatial_feat_config[\"spatial_size\"], hist_feat=color_hist_feat,\n",
    "                                       hist_bins=color_hist_feat_config[\"hist_bins\"], \n",
    "                                        hist_range=color_hist_feat_config[\"hist_range\"])\n",
    "        features.append(color_features)\n",
    "\n",
    "    if (hog_feat == True): \n",
    "        hog_features = extract_hog_features([img], is_image_path=False, color_space=hog_feat_config[\"color_space\"],\n",
    "                                            orient=hog_feat_config[\"orient\"],\n",
    "                                           pix_per_cell=hog_feat_config[\"pix_per_cell\"],\n",
    "                                           cell_per_block=hog_feat_config[\"cell_per_block\"],\n",
    "                                           hog_channel=hog_feat_config[\"hog_channel\"], \n",
    "                                            do_transform_sqrt=hog_feat_config[\"do_transform_sqrt\"])\n",
    "        features.append(hog_features)\n",
    "    return np.concatenate(features, axis=1)"
   ]
  },
  {
   "cell_type": "markdown",
   "metadata": {
    "deletable": true,
    "editable": true
   },
   "source": [
    "#### Run the trained classifier and predict car/noncar class"
   ]
  },
  {
   "cell_type": "code",
   "execution_count": 60,
   "metadata": {
    "collapsed": false,
    "deletable": true,
    "editable": true
   },
   "outputs": [],
   "source": [
    "def predict_class(img, clf, scaler, spatial_feat_config, color_hist_feat_config, hog_feat_config, \n",
    "                  spatial_feat=True, color_hist_feat=True, hog_feat=True):\n",
    "    img_features = extract_single_img_features(img, spatial_feat=spatial_feat, spatial_feat_config=spatial_feat_config, \n",
    "                                        color_hist_feat=color_hist_feat, color_hist_feat_config=color_hist_feat_config,\n",
    "                                        hog_feat=hog_feat, hog_feat_config=hog_feat_config)\n",
    "    #Scale and normalize the features\n",
    "    img_features = scaler.transform(np.array(img_features).reshape(1, -1))\n",
    "    #Predict class\n",
    "    pred = clf.predict(img_features)\n",
    "    return pred"
   ]
  },
  {
   "cell_type": "markdown",
   "metadata": {
    "deletable": true,
    "editable": true
   },
   "source": [
    "#### Extract image section from bounding boxes of windows detected by sliding window algorithm"
   ]
  },
  {
   "cell_type": "code",
   "execution_count": 61,
   "metadata": {
    "collapsed": false,
    "deletable": true,
    "editable": true
   },
   "outputs": [],
   "source": [
    "def extract_imgs_from_windows(original_img, windows):\n",
    "    imgs = []\n",
    "    for window in windows:\n",
    "        imgs.append(cv2.resize(original_img[window[0][1]:window[1][1], window[0][0]:window[1][0]], (64, 64)))\n",
    "    return imgs\n",
    "# image = cv2.imread(extract_images(test_images_path)[\"imgs_path\"][0])\n",
    "# window_bboxes = slide_window(image, y_start_stop=(int(0.5556*image.shape[0]), 0.9208*image.shape[0]), \n",
    "#                                      window_xy_size=(128, 128))\n",
    "# window_imgs = extract_imgs_from_windows(image, window_bboxes)\n",
    "# plt.imshow(image)\n",
    "# plt.show()\n",
    "# for img in window_imgs:\n",
    "#     plt.imshow(img)\n",
    "#     plt.show()"
   ]
  },
  {
   "cell_type": "markdown",
   "metadata": {
    "deletable": true,
    "editable": true
   },
   "source": [
    "#### Draw bounding boxes on areas where cars are detected"
   ]
  },
  {
   "cell_type": "code",
   "execution_count": 76,
   "metadata": {
    "collapsed": false,
    "deletable": true,
    "editable": true
   },
   "outputs": [
    {
     "name": "stdout",
     "output_type": "stream",
     "text": [
      "15.48 Seconds to train SVC...\n",
      "Test set accuracy obtained by training on all features is: 0.993548387097\n"
     ]
    },
    {
     "ename": "ValueError",
     "evalue": "operands could not be broadcast together with shapes (1,7020) (26028,) (1,7020) ",
     "output_type": "error",
     "traceback": [
      "\u001b[0;31m---------------------------------------------------------------------------\u001b[0m",
      "\u001b[0;31mValueError\u001b[0m                                Traceback (most recent call last)",
      "\u001b[0;32m<ipython-input-76-c19a40dfd4b6>\u001b[0m in \u001b[0;36m<module>\u001b[0;34m()\u001b[0m\n\u001b[1;32m     46\u001b[0m \u001b[0mprint\u001b[0m\u001b[1;33m(\u001b[0m\u001b[1;34m\"Test set accuracy obtained by training on all features is:\"\u001b[0m\u001b[1;33m,\u001b[0m \u001b[0maccuracy\u001b[0m\u001b[1;33m)\u001b[0m\u001b[1;33m\u001b[0m\u001b[0m\n\u001b[1;32m     47\u001b[0m \u001b[0mtest_image\u001b[0m \u001b[1;33m=\u001b[0m \u001b[0mcv2\u001b[0m\u001b[1;33m.\u001b[0m\u001b[0mimread\u001b[0m\u001b[1;33m(\u001b[0m\u001b[0mextract_images\u001b[0m\u001b[1;33m(\u001b[0m\u001b[0mtest_images_path\u001b[0m\u001b[1;33m)\u001b[0m\u001b[1;33m[\u001b[0m\u001b[1;34m\"imgs_path\"\u001b[0m\u001b[1;33m]\u001b[0m\u001b[1;33m[\u001b[0m\u001b[1;36m3\u001b[0m\u001b[1;33m]\u001b[0m\u001b[1;33m)\u001b[0m\u001b[1;33m\u001b[0m\u001b[0m\n\u001b[0;32m---> 48\u001b[0;31m \u001b[0mcar_detected_image\u001b[0m \u001b[1;33m=\u001b[0m \u001b[0mdraw_predicted_cars\u001b[0m\u001b[1;33m(\u001b[0m\u001b[0mtest_image\u001b[0m\u001b[1;33m,\u001b[0m \u001b[0mclf\u001b[0m\u001b[1;33m,\u001b[0m \u001b[0mscaler\u001b[0m\u001b[1;33m)\u001b[0m\u001b[1;33m\u001b[0m\u001b[0m\n\u001b[0m\u001b[1;32m     49\u001b[0m \u001b[0mplt\u001b[0m\u001b[1;33m.\u001b[0m\u001b[0mimshow\u001b[0m\u001b[1;33m(\u001b[0m\u001b[0mcar_detected_image\u001b[0m\u001b[1;33m)\u001b[0m\u001b[1;33m\u001b[0m\u001b[0m\n\u001b[1;32m     50\u001b[0m \u001b[0mplt\u001b[0m\u001b[1;33m.\u001b[0m\u001b[0mshow\u001b[0m\u001b[1;33m(\u001b[0m\u001b[1;33m)\u001b[0m\u001b[1;33m\u001b[0m\u001b[0m\n",
      "\u001b[0;32m<ipython-input-76-c19a40dfd4b6>\u001b[0m in \u001b[0;36mdraw_predicted_cars\u001b[0;34m(original_img, clf, scaler)\u001b[0m\n\u001b[1;32m     34\u001b[0m         pred = predict_class(window_img, clf, scaler, spatial_feat=True, spatial_feat_config=spatial_feat_config, \n\u001b[1;32m     35\u001b[0m                       \u001b[0mcolor_hist_feat\u001b[0m\u001b[1;33m=\u001b[0m\u001b[1;32mTrue\u001b[0m\u001b[1;33m,\u001b[0m \u001b[0mcolor_hist_feat_config\u001b[0m\u001b[1;33m=\u001b[0m\u001b[0mcolor_hist_feat_config\u001b[0m\u001b[1;33m,\u001b[0m\u001b[1;33m\u001b[0m\u001b[0m\n\u001b[0;32m---> 36\u001b[0;31m                       hog_feat=True, hog_feat_config=hog_feat_config)\n\u001b[0m\u001b[1;32m     37\u001b[0m \u001b[1;33m\u001b[0m\u001b[0m\n\u001b[1;32m     38\u001b[0m         \u001b[1;32mif\u001b[0m \u001b[1;33m(\u001b[0m\u001b[0mpred\u001b[0m \u001b[1;33m==\u001b[0m \u001b[1;36m1\u001b[0m\u001b[1;33m)\u001b[0m\u001b[1;33m:\u001b[0m\u001b[1;33m\u001b[0m\u001b[0m\n",
      "\u001b[0;32m<ipython-input-60-75b86a8f8e7a>\u001b[0m in \u001b[0;36mpredict_class\u001b[0;34m(img, clf, scaler, spatial_feat_config, color_hist_feat_config, hog_feat_config, spatial_feat, color_hist_feat, hog_feat)\u001b[0m\n\u001b[1;32m      5\u001b[0m                                         hog_feat=hog_feat, hog_feat_config=hog_feat_config)\n\u001b[1;32m      6\u001b[0m     \u001b[1;31m#Scale and normalize the features\u001b[0m\u001b[1;33m\u001b[0m\u001b[1;33m\u001b[0m\u001b[0m\n\u001b[0;32m----> 7\u001b[0;31m     \u001b[0mimg_features\u001b[0m \u001b[1;33m=\u001b[0m \u001b[0mscaler\u001b[0m\u001b[1;33m.\u001b[0m\u001b[0mtransform\u001b[0m\u001b[1;33m(\u001b[0m\u001b[0mnp\u001b[0m\u001b[1;33m.\u001b[0m\u001b[0marray\u001b[0m\u001b[1;33m(\u001b[0m\u001b[0mimg_features\u001b[0m\u001b[1;33m)\u001b[0m\u001b[1;33m.\u001b[0m\u001b[0mreshape\u001b[0m\u001b[1;33m(\u001b[0m\u001b[1;36m1\u001b[0m\u001b[1;33m,\u001b[0m \u001b[1;33m-\u001b[0m\u001b[1;36m1\u001b[0m\u001b[1;33m)\u001b[0m\u001b[1;33m)\u001b[0m\u001b[1;33m\u001b[0m\u001b[0m\n\u001b[0m\u001b[1;32m      8\u001b[0m     \u001b[1;31m#Predict class\u001b[0m\u001b[1;33m\u001b[0m\u001b[1;33m\u001b[0m\u001b[0m\n\u001b[1;32m      9\u001b[0m     \u001b[0mpred\u001b[0m \u001b[1;33m=\u001b[0m \u001b[0mclf\u001b[0m\u001b[1;33m.\u001b[0m\u001b[0mpredict\u001b[0m\u001b[1;33m(\u001b[0m\u001b[0mimg_features\u001b[0m\u001b[1;33m)\u001b[0m\u001b[1;33m\u001b[0m\u001b[0m\n",
      "\u001b[0;32mC:\\Users\\Saurabh\\Miniconda3\\envs\\carnd-term1\\lib\\site-packages\\sklearn\\preprocessing\\data.py\u001b[0m in \u001b[0;36mtransform\u001b[0;34m(self, X, y, copy)\u001b[0m\n\u001b[1;32m    658\u001b[0m         \u001b[1;32melse\u001b[0m\u001b[1;33m:\u001b[0m\u001b[1;33m\u001b[0m\u001b[0m\n\u001b[1;32m    659\u001b[0m             \u001b[1;32mif\u001b[0m \u001b[0mself\u001b[0m\u001b[1;33m.\u001b[0m\u001b[0mwith_mean\u001b[0m\u001b[1;33m:\u001b[0m\u001b[1;33m\u001b[0m\u001b[0m\n\u001b[0;32m--> 660\u001b[0;31m                 \u001b[0mX\u001b[0m \u001b[1;33m-=\u001b[0m \u001b[0mself\u001b[0m\u001b[1;33m.\u001b[0m\u001b[0mmean_\u001b[0m\u001b[1;33m\u001b[0m\u001b[0m\n\u001b[0m\u001b[1;32m    661\u001b[0m             \u001b[1;32mif\u001b[0m \u001b[0mself\u001b[0m\u001b[1;33m.\u001b[0m\u001b[0mwith_std\u001b[0m\u001b[1;33m:\u001b[0m\u001b[1;33m\u001b[0m\u001b[0m\n\u001b[1;32m    662\u001b[0m                 \u001b[0mX\u001b[0m \u001b[1;33m/=\u001b[0m \u001b[0mself\u001b[0m\u001b[1;33m.\u001b[0m\u001b[0mscale_\u001b[0m\u001b[1;33m\u001b[0m\u001b[0m\n",
      "\u001b[0;31mValueError\u001b[0m: operands could not be broadcast together with shapes (1,7020) (26028,) (1,7020) "
     ]
    }
   ],
   "source": [
    "def draw_predicted_cars(original_img, clf, scaler):\n",
    "    #Declare and define feature extraction configuration paramters\n",
    "    spatial_feat_config = {\n",
    "        \"colorspace\": [\"BGR\", \"HSV\"],\n",
    "        \"spatial_size\": (16, 16)\n",
    "    }\n",
    "    color_hist_feat_config = {\n",
    "        \"hist_bins\": 64,\n",
    "        \"hist_range\": (0, 256)\n",
    "    }\n",
    "    hog_feat_config = {\n",
    "        \"orient\": 9,\n",
    "        \"pix_per_cell\": 8,\n",
    "        \"cell_per_block\": 2,\n",
    "        \"hog_channel\": \"ALL\",\n",
    "        \"color_space\": \"HSV\",\n",
    "        \"do_transform_sqrt\": True\n",
    "    }\n",
    "    car_windows = []\n",
    "    total_window_boxes = []\n",
    "    total_window_boxes.extend(slide_window(original_img, y_start_stop=(int(0.5556*original_img.shape[0]), 0.9208*original_img.shape[0]), \n",
    "                                      window_xy_size=(64, 64), window_xy_overlap=(0.75, 0.75)))\n",
    "    \n",
    "#     total_window_boxes.extend(slide_window(original_img, y_start_stop=(int(0.5556*original_img.shape[0]), 0.9208*original_img.shape[0]), \n",
    "#                                       window_xy_size=(128, 64), window_xy_overlap=(0.75, 0.75)))\n",
    "    box_image = draw_bounding_boxes(original_img, total_window_boxes)\n",
    "#     plt.imshow(box_image)\n",
    "#     plt.show()\n",
    "    window_imgs = extract_imgs_from_windows(original_img, total_window_boxes)\n",
    "    for i in range(len(window_imgs)):\n",
    "        window_img = window_imgs[i]\n",
    "#         plt.imshow(window_img)\n",
    "#         plt.show()\n",
    "        pred = predict_class(window_img, clf, scaler, spatial_feat=True, spatial_feat_config=spatial_feat_config, \n",
    "                      color_hist_feat=True, color_hist_feat_config=color_hist_feat_config,\n",
    "                      hog_feat=True, hog_feat_config=hog_feat_config)\n",
    "        \n",
    "        if (pred == 1):\n",
    "            car_windows.append(total_window_boxes[i])\n",
    "    car_detected_image = draw_bounding_boxes(original_img, car_windows)\n",
    "    return car_detected_image\n",
    "\n",
    "car_images = extract_images(car_partial_data_path)[\"imgs_path\"]\n",
    "noncar_images = extract_images(noncar_partial_data_path)[\"imgs_path\"]\n",
    "clf, scaler, accuracy = train_on_all_features(car_images, noncar_images)\n",
    "print(\"Test set accuracy obtained by training on all features is:\", accuracy)\n",
    "test_image = cv2.imread(extract_images(test_images_path)[\"imgs_path\"][3])\n",
    "car_detected_image = draw_predicted_cars(test_image, clf, scaler)\n",
    "plt.imshow(car_detected_image)\n",
    "plt.show()"
   ]
  },
  {
   "cell_type": "markdown",
   "metadata": {
    "deletable": true,
    "editable": true
   },
   "source": [
    "### Goal 6 - Run your pipeline on a video stream and create a heat map of recurring detections frame by frame to reject outliers and follow detected vehicles."
   ]
  },
  {
   "cell_type": "markdown",
   "metadata": {
    "deletable": true,
    "editable": true
   },
   "source": [
    "#### Apply vehicle detection algorithm on video stream"
   ]
  },
  {
   "cell_type": "code",
   "execution_count": 75,
   "metadata": {
    "collapsed": true,
    "deletable": true,
    "editable": true
   },
   "outputs": [],
   "source": [
    "def laneDetectionInVideo (sourceFilePath, outputFilePath):\n",
    "    #originalVideoClip = VideoFileClip(sourceFilePath).subclip(14, 16)\n",
    "    originalVideoClip = VideoFileClip(sourceFilePath)\n",
    "    car_detected = originalVideoClip.fl_image(process_image_frames)\n",
    "    %time car_detected.write_videofile(outputFilePath, audio=False)"
   ]
  },
  {
   "cell_type": "markdown",
   "metadata": {
    "deletable": true,
    "editable": true
   },
   "source": [
    "#### Process image frames from video"
   ]
  },
  {
   "cell_type": "code",
   "execution_count": 76,
   "metadata": {
    "collapsed": true,
    "deletable": true,
    "editable": true
   },
   "outputs": [],
   "source": [
    "def process_image_frames(image):\n",
    "    output = draw_predicted_cars(image, clf, scaler)\n",
    "    return output"
   ]
  },
  {
   "cell_type": "markdown",
   "metadata": {
    "deletable": true,
    "editable": true
   },
   "source": [
    "### Main method"
   ]
  },
  {
   "cell_type": "code",
   "execution_count": 77,
   "metadata": {
    "collapsed": false,
    "deletable": true,
    "editable": true
   },
   "outputs": [
    {
     "name": "stdout",
     "output_type": "stream",
     "text": [
      "[MoviePy] >>>> Building video test-partial-data-run.mp4\n",
      "[MoviePy] Writing video test-partial-data-run.mp4\n"
     ]
    },
    {
     "name": "stderr",
     "output_type": "stream",
     "text": [
      "  8%|▊         | 3/39 [00:55<11:03, 18.43s/it]"
     ]
    },
    {
     "ename": "KeyboardInterrupt",
     "evalue": "",
     "output_type": "error",
     "traceback": [
      "\u001b[0;31m---------------------------------------------------------------------------\u001b[0m",
      "\u001b[0;31mKeyboardInterrupt\u001b[0m                         Traceback (most recent call last)",
      "\u001b[0;32m<ipython-input-77-cffeceab3a99>\u001b[0m in \u001b[0;36m<module>\u001b[0;34m()\u001b[0m\n\u001b[1;32m      1\u001b[0m \u001b[0;32mdef\u001b[0m \u001b[0mmain\u001b[0m\u001b[0;34m(\u001b[0m\u001b[0mvideo_src\u001b[0m\u001b[0;34m,\u001b[0m \u001b[0mvideo_dst\u001b[0m\u001b[0;34m)\u001b[0m\u001b[0;34m:\u001b[0m\u001b[0;34m\u001b[0m\u001b[0m\n\u001b[1;32m      2\u001b[0m     \u001b[0mlaneDetectionInVideo\u001b[0m\u001b[0;34m(\u001b[0m\u001b[0mvideo_src\u001b[0m\u001b[0;34m,\u001b[0m \u001b[0mvideo_dst\u001b[0m\u001b[0;34m)\u001b[0m\u001b[0;34m\u001b[0m\u001b[0m\n\u001b[0;32m----> 3\u001b[0;31m \u001b[0mmain\u001b[0m\u001b[0;34m(\u001b[0m\u001b[0;34m\"test_video/test_video.mp4\"\u001b[0m\u001b[0;34m,\u001b[0m \u001b[0;34m\"test-partial-data-run.mp4\"\u001b[0m\u001b[0;34m)\u001b[0m\u001b[0;34m\u001b[0m\u001b[0m\n\u001b[0m",
      "\u001b[0;32m<ipython-input-77-cffeceab3a99>\u001b[0m in \u001b[0;36mmain\u001b[0;34m(video_src, video_dst)\u001b[0m\n\u001b[1;32m      1\u001b[0m \u001b[0;32mdef\u001b[0m \u001b[0mmain\u001b[0m\u001b[0;34m(\u001b[0m\u001b[0mvideo_src\u001b[0m\u001b[0;34m,\u001b[0m \u001b[0mvideo_dst\u001b[0m\u001b[0;34m)\u001b[0m\u001b[0;34m:\u001b[0m\u001b[0;34m\u001b[0m\u001b[0m\n\u001b[0;32m----> 2\u001b[0;31m     \u001b[0mlaneDetectionInVideo\u001b[0m\u001b[0;34m(\u001b[0m\u001b[0mvideo_src\u001b[0m\u001b[0;34m,\u001b[0m \u001b[0mvideo_dst\u001b[0m\u001b[0;34m)\u001b[0m\u001b[0;34m\u001b[0m\u001b[0m\n\u001b[0m\u001b[1;32m      3\u001b[0m \u001b[0mmain\u001b[0m\u001b[0;34m(\u001b[0m\u001b[0;34m\"test_video/test_video.mp4\"\u001b[0m\u001b[0;34m,\u001b[0m \u001b[0;34m\"test-partial-data-run.mp4\"\u001b[0m\u001b[0;34m)\u001b[0m\u001b[0;34m\u001b[0m\u001b[0m\n",
      "\u001b[0;32m<ipython-input-75-a01e63b03ba7>\u001b[0m in \u001b[0;36mlaneDetectionInVideo\u001b[0;34m(sourceFilePath, outputFilePath)\u001b[0m\n\u001b[1;32m      3\u001b[0m     \u001b[0moriginalVideoClip\u001b[0m \u001b[0;34m=\u001b[0m \u001b[0mVideoFileClip\u001b[0m\u001b[0;34m(\u001b[0m\u001b[0msourceFilePath\u001b[0m\u001b[0;34m)\u001b[0m\u001b[0;34m\u001b[0m\u001b[0m\n\u001b[1;32m      4\u001b[0m     \u001b[0mcar_detected\u001b[0m \u001b[0;34m=\u001b[0m \u001b[0moriginalVideoClip\u001b[0m\u001b[0;34m.\u001b[0m\u001b[0mfl_image\u001b[0m\u001b[0;34m(\u001b[0m\u001b[0mprocess_image_frames\u001b[0m\u001b[0;34m)\u001b[0m\u001b[0;34m\u001b[0m\u001b[0m\n\u001b[0;32m----> 5\u001b[0;31m     \u001b[0mget_ipython\u001b[0m\u001b[0;34m(\u001b[0m\u001b[0;34m)\u001b[0m\u001b[0;34m.\u001b[0m\u001b[0mmagic\u001b[0m\u001b[0;34m(\u001b[0m\u001b[0;34m'time car_detected.write_videofile(outputFilePath, audio=False)'\u001b[0m\u001b[0;34m)\u001b[0m\u001b[0;34m\u001b[0m\u001b[0m\n\u001b[0m",
      "\u001b[0;32m/home/carnd/anaconda3/envs/carnd-term1/lib/python3.5/site-packages/IPython/core/interactiveshell.py\u001b[0m in \u001b[0;36mmagic\u001b[0;34m(self, arg_s)\u001b[0m\n\u001b[1;32m   2156\u001b[0m         \u001b[0mmagic_name\u001b[0m\u001b[0;34m,\u001b[0m \u001b[0m_\u001b[0m\u001b[0;34m,\u001b[0m \u001b[0mmagic_arg_s\u001b[0m \u001b[0;34m=\u001b[0m \u001b[0marg_s\u001b[0m\u001b[0;34m.\u001b[0m\u001b[0mpartition\u001b[0m\u001b[0;34m(\u001b[0m\u001b[0;34m' '\u001b[0m\u001b[0;34m)\u001b[0m\u001b[0;34m\u001b[0m\u001b[0m\n\u001b[1;32m   2157\u001b[0m         \u001b[0mmagic_name\u001b[0m \u001b[0;34m=\u001b[0m \u001b[0mmagic_name\u001b[0m\u001b[0;34m.\u001b[0m\u001b[0mlstrip\u001b[0m\u001b[0;34m(\u001b[0m\u001b[0mprefilter\u001b[0m\u001b[0;34m.\u001b[0m\u001b[0mESC_MAGIC\u001b[0m\u001b[0;34m)\u001b[0m\u001b[0;34m\u001b[0m\u001b[0m\n\u001b[0;32m-> 2158\u001b[0;31m         \u001b[0;32mreturn\u001b[0m \u001b[0mself\u001b[0m\u001b[0;34m.\u001b[0m\u001b[0mrun_line_magic\u001b[0m\u001b[0;34m(\u001b[0m\u001b[0mmagic_name\u001b[0m\u001b[0;34m,\u001b[0m \u001b[0mmagic_arg_s\u001b[0m\u001b[0;34m)\u001b[0m\u001b[0;34m\u001b[0m\u001b[0m\n\u001b[0m\u001b[1;32m   2159\u001b[0m \u001b[0;34m\u001b[0m\u001b[0m\n\u001b[1;32m   2160\u001b[0m     \u001b[0;31m#-------------------------------------------------------------------------\u001b[0m\u001b[0;34m\u001b[0m\u001b[0;34m\u001b[0m\u001b[0m\n",
      "\u001b[0;32m/home/carnd/anaconda3/envs/carnd-term1/lib/python3.5/site-packages/IPython/core/interactiveshell.py\u001b[0m in \u001b[0;36mrun_line_magic\u001b[0;34m(self, magic_name, line)\u001b[0m\n\u001b[1;32m   2077\u001b[0m                 \u001b[0mkwargs\u001b[0m\u001b[0;34m[\u001b[0m\u001b[0;34m'local_ns'\u001b[0m\u001b[0;34m]\u001b[0m \u001b[0;34m=\u001b[0m \u001b[0msys\u001b[0m\u001b[0;34m.\u001b[0m\u001b[0m_getframe\u001b[0m\u001b[0;34m(\u001b[0m\u001b[0mstack_depth\u001b[0m\u001b[0;34m)\u001b[0m\u001b[0;34m.\u001b[0m\u001b[0mf_locals\u001b[0m\u001b[0;34m\u001b[0m\u001b[0m\n\u001b[1;32m   2078\u001b[0m             \u001b[0;32mwith\u001b[0m \u001b[0mself\u001b[0m\u001b[0;34m.\u001b[0m\u001b[0mbuiltin_trap\u001b[0m\u001b[0;34m:\u001b[0m\u001b[0;34m\u001b[0m\u001b[0m\n\u001b[0;32m-> 2079\u001b[0;31m                 \u001b[0mresult\u001b[0m \u001b[0;34m=\u001b[0m \u001b[0mfn\u001b[0m\u001b[0;34m(\u001b[0m\u001b[0;34m*\u001b[0m\u001b[0margs\u001b[0m\u001b[0;34m,\u001b[0m\u001b[0;34m**\u001b[0m\u001b[0mkwargs\u001b[0m\u001b[0;34m)\u001b[0m\u001b[0;34m\u001b[0m\u001b[0m\n\u001b[0m\u001b[1;32m   2080\u001b[0m             \u001b[0;32mreturn\u001b[0m \u001b[0mresult\u001b[0m\u001b[0;34m\u001b[0m\u001b[0m\n\u001b[1;32m   2081\u001b[0m \u001b[0;34m\u001b[0m\u001b[0m\n",
      "\u001b[0;32m<decorator-gen-59>\u001b[0m in \u001b[0;36mtime\u001b[0;34m(self, line, cell, local_ns)\u001b[0m\n",
      "\u001b[0;32m/home/carnd/anaconda3/envs/carnd-term1/lib/python3.5/site-packages/IPython/core/magic.py\u001b[0m in \u001b[0;36m<lambda>\u001b[0;34m(f, *a, **k)\u001b[0m\n\u001b[1;32m    186\u001b[0m     \u001b[0;31m# but it's overkill for just that one bit of state.\u001b[0m\u001b[0;34m\u001b[0m\u001b[0;34m\u001b[0m\u001b[0m\n\u001b[1;32m    187\u001b[0m     \u001b[0;32mdef\u001b[0m \u001b[0mmagic_deco\u001b[0m\u001b[0;34m(\u001b[0m\u001b[0marg\u001b[0m\u001b[0;34m)\u001b[0m\u001b[0;34m:\u001b[0m\u001b[0;34m\u001b[0m\u001b[0m\n\u001b[0;32m--> 188\u001b[0;31m         \u001b[0mcall\u001b[0m \u001b[0;34m=\u001b[0m \u001b[0;32mlambda\u001b[0m \u001b[0mf\u001b[0m\u001b[0;34m,\u001b[0m \u001b[0;34m*\u001b[0m\u001b[0ma\u001b[0m\u001b[0;34m,\u001b[0m \u001b[0;34m**\u001b[0m\u001b[0mk\u001b[0m\u001b[0;34m:\u001b[0m \u001b[0mf\u001b[0m\u001b[0;34m(\u001b[0m\u001b[0;34m*\u001b[0m\u001b[0ma\u001b[0m\u001b[0;34m,\u001b[0m \u001b[0;34m**\u001b[0m\u001b[0mk\u001b[0m\u001b[0;34m)\u001b[0m\u001b[0;34m\u001b[0m\u001b[0m\n\u001b[0m\u001b[1;32m    189\u001b[0m \u001b[0;34m\u001b[0m\u001b[0m\n\u001b[1;32m    190\u001b[0m         \u001b[0;32mif\u001b[0m \u001b[0mcallable\u001b[0m\u001b[0;34m(\u001b[0m\u001b[0marg\u001b[0m\u001b[0;34m)\u001b[0m\u001b[0;34m:\u001b[0m\u001b[0;34m\u001b[0m\u001b[0m\n",
      "\u001b[0;32m/home/carnd/anaconda3/envs/carnd-term1/lib/python3.5/site-packages/IPython/core/magics/execution.py\u001b[0m in \u001b[0;36mtime\u001b[0;34m(self, line, cell, local_ns)\u001b[0m\n\u001b[1;32m   1174\u001b[0m         \u001b[0;32mif\u001b[0m \u001b[0mmode\u001b[0m\u001b[0;34m==\u001b[0m\u001b[0;34m'eval'\u001b[0m\u001b[0;34m:\u001b[0m\u001b[0;34m\u001b[0m\u001b[0m\n\u001b[1;32m   1175\u001b[0m             \u001b[0mst\u001b[0m \u001b[0;34m=\u001b[0m \u001b[0mclock2\u001b[0m\u001b[0;34m(\u001b[0m\u001b[0;34m)\u001b[0m\u001b[0;34m\u001b[0m\u001b[0m\n\u001b[0;32m-> 1176\u001b[0;31m             \u001b[0mout\u001b[0m \u001b[0;34m=\u001b[0m \u001b[0meval\u001b[0m\u001b[0;34m(\u001b[0m\u001b[0mcode\u001b[0m\u001b[0;34m,\u001b[0m \u001b[0mglob\u001b[0m\u001b[0;34m,\u001b[0m \u001b[0mlocal_ns\u001b[0m\u001b[0;34m)\u001b[0m\u001b[0;34m\u001b[0m\u001b[0m\n\u001b[0m\u001b[1;32m   1177\u001b[0m             \u001b[0mend\u001b[0m \u001b[0;34m=\u001b[0m \u001b[0mclock2\u001b[0m\u001b[0;34m(\u001b[0m\u001b[0;34m)\u001b[0m\u001b[0;34m\u001b[0m\u001b[0m\n\u001b[1;32m   1178\u001b[0m         \u001b[0;32melse\u001b[0m\u001b[0;34m:\u001b[0m\u001b[0;34m\u001b[0m\u001b[0m\n",
      "\u001b[0;32m<timed eval>\u001b[0m in \u001b[0;36m<module>\u001b[0;34m()\u001b[0m\n",
      "\u001b[0;32m<decorator-gen-172>\u001b[0m in \u001b[0;36mwrite_videofile\u001b[0;34m(self, filename, fps, codec, bitrate, audio, audio_fps, preset, audio_nbytes, audio_codec, audio_bitrate, audio_bufsize, temp_audiofile, rewrite_audio, remove_temp, write_logfile, verbose, threads, ffmpeg_params)\u001b[0m\n",
      "\u001b[0;32m/home/carnd/anaconda3/envs/carnd-term1/lib/python3.5/site-packages/moviepy/decorators.py\u001b[0m in \u001b[0;36mrequires_duration\u001b[0;34m(f, clip, *a, **k)\u001b[0m\n\u001b[1;32m     52\u001b[0m         \u001b[0;32mraise\u001b[0m \u001b[0mValueError\u001b[0m\u001b[0;34m(\u001b[0m\u001b[0;34m\"Attribute 'duration' not set\"\u001b[0m\u001b[0;34m)\u001b[0m\u001b[0;34m\u001b[0m\u001b[0m\n\u001b[1;32m     53\u001b[0m     \u001b[0;32melse\u001b[0m\u001b[0;34m:\u001b[0m\u001b[0;34m\u001b[0m\u001b[0m\n\u001b[0;32m---> 54\u001b[0;31m         \u001b[0;32mreturn\u001b[0m \u001b[0mf\u001b[0m\u001b[0;34m(\u001b[0m\u001b[0mclip\u001b[0m\u001b[0;34m,\u001b[0m \u001b[0;34m*\u001b[0m\u001b[0ma\u001b[0m\u001b[0;34m,\u001b[0m \u001b[0;34m**\u001b[0m\u001b[0mk\u001b[0m\u001b[0;34m)\u001b[0m\u001b[0;34m\u001b[0m\u001b[0m\n\u001b[0m\u001b[1;32m     55\u001b[0m \u001b[0;34m\u001b[0m\u001b[0m\n\u001b[1;32m     56\u001b[0m \u001b[0;34m\u001b[0m\u001b[0m\n",
      "\u001b[0;32m<decorator-gen-171>\u001b[0m in \u001b[0;36mwrite_videofile\u001b[0;34m(self, filename, fps, codec, bitrate, audio, audio_fps, preset, audio_nbytes, audio_codec, audio_bitrate, audio_bufsize, temp_audiofile, rewrite_audio, remove_temp, write_logfile, verbose, threads, ffmpeg_params)\u001b[0m\n",
      "\u001b[0;32m/home/carnd/anaconda3/envs/carnd-term1/lib/python3.5/site-packages/moviepy/decorators.py\u001b[0m in \u001b[0;36muse_clip_fps_by_default\u001b[0;34m(f, clip, *a, **k)\u001b[0m\n\u001b[1;32m    135\u001b[0m              for (k,v) in k.items()}\n\u001b[1;32m    136\u001b[0m \u001b[0;34m\u001b[0m\u001b[0m\n\u001b[0;32m--> 137\u001b[0;31m     \u001b[0;32mreturn\u001b[0m \u001b[0mf\u001b[0m\u001b[0;34m(\u001b[0m\u001b[0mclip\u001b[0m\u001b[0;34m,\u001b[0m \u001b[0;34m*\u001b[0m\u001b[0mnew_a\u001b[0m\u001b[0;34m,\u001b[0m \u001b[0;34m**\u001b[0m\u001b[0mnew_kw\u001b[0m\u001b[0;34m)\u001b[0m\u001b[0;34m\u001b[0m\u001b[0m\n\u001b[0m",
      "\u001b[0;32m<decorator-gen-170>\u001b[0m in \u001b[0;36mwrite_videofile\u001b[0;34m(self, filename, fps, codec, bitrate, audio, audio_fps, preset, audio_nbytes, audio_codec, audio_bitrate, audio_bufsize, temp_audiofile, rewrite_audio, remove_temp, write_logfile, verbose, threads, ffmpeg_params)\u001b[0m\n",
      "\u001b[0;32m/home/carnd/anaconda3/envs/carnd-term1/lib/python3.5/site-packages/moviepy/decorators.py\u001b[0m in \u001b[0;36mconvert_masks_to_RGB\u001b[0;34m(f, clip, *a, **k)\u001b[0m\n\u001b[1;32m     20\u001b[0m     \u001b[0;32mif\u001b[0m \u001b[0mclip\u001b[0m\u001b[0;34m.\u001b[0m\u001b[0mismask\u001b[0m\u001b[0;34m:\u001b[0m\u001b[0;34m\u001b[0m\u001b[0m\n\u001b[1;32m     21\u001b[0m         \u001b[0mclip\u001b[0m \u001b[0;34m=\u001b[0m \u001b[0mclip\u001b[0m\u001b[0;34m.\u001b[0m\u001b[0mto_RGB\u001b[0m\u001b[0;34m(\u001b[0m\u001b[0;34m)\u001b[0m\u001b[0;34m\u001b[0m\u001b[0m\n\u001b[0;32m---> 22\u001b[0;31m     \u001b[0;32mreturn\u001b[0m \u001b[0mf\u001b[0m\u001b[0;34m(\u001b[0m\u001b[0mclip\u001b[0m\u001b[0;34m,\u001b[0m \u001b[0;34m*\u001b[0m\u001b[0ma\u001b[0m\u001b[0;34m,\u001b[0m \u001b[0;34m**\u001b[0m\u001b[0mk\u001b[0m\u001b[0;34m)\u001b[0m\u001b[0;34m\u001b[0m\u001b[0m\n\u001b[0m\u001b[1;32m     23\u001b[0m \u001b[0;34m\u001b[0m\u001b[0m\n\u001b[1;32m     24\u001b[0m \u001b[0;34m@\u001b[0m\u001b[0mdecorator\u001b[0m\u001b[0;34m.\u001b[0m\u001b[0mdecorator\u001b[0m\u001b[0;34m\u001b[0m\u001b[0m\n",
      "\u001b[0;32m/home/carnd/anaconda3/envs/carnd-term1/lib/python3.5/site-packages/moviepy/video/VideoClip.py\u001b[0m in \u001b[0;36mwrite_videofile\u001b[0;34m(self, filename, fps, codec, bitrate, audio, audio_fps, preset, audio_nbytes, audio_codec, audio_bitrate, audio_bufsize, temp_audiofile, rewrite_audio, remove_temp, write_logfile, verbose, threads, ffmpeg_params)\u001b[0m\n\u001b[1;32m    337\u001b[0m                            \u001b[0maudiofile\u001b[0m \u001b[0;34m=\u001b[0m \u001b[0maudiofile\u001b[0m\u001b[0;34m,\u001b[0m\u001b[0;34m\u001b[0m\u001b[0m\n\u001b[1;32m    338\u001b[0m                            \u001b[0mverbose\u001b[0m\u001b[0;34m=\u001b[0m\u001b[0mverbose\u001b[0m\u001b[0;34m,\u001b[0m \u001b[0mthreads\u001b[0m\u001b[0;34m=\u001b[0m\u001b[0mthreads\u001b[0m\u001b[0;34m,\u001b[0m\u001b[0;34m\u001b[0m\u001b[0m\n\u001b[0;32m--> 339\u001b[0;31m                            ffmpeg_params=ffmpeg_params)\n\u001b[0m\u001b[1;32m    340\u001b[0m \u001b[0;34m\u001b[0m\u001b[0m\n\u001b[1;32m    341\u001b[0m         \u001b[0;32mif\u001b[0m \u001b[0mremove_temp\u001b[0m \u001b[0;32mand\u001b[0m \u001b[0mmake_audio\u001b[0m\u001b[0;34m:\u001b[0m\u001b[0;34m\u001b[0m\u001b[0m\n",
      "\u001b[0;32m/home/carnd/anaconda3/envs/carnd-term1/lib/python3.5/site-packages/moviepy/video/io/ffmpeg_writer.py\u001b[0m in \u001b[0;36mffmpeg_write_video\u001b[0;34m(clip, filename, fps, codec, bitrate, preset, withmask, write_logfile, audiofile, verbose, threads, ffmpeg_params)\u001b[0m\n\u001b[1;32m    202\u001b[0m \u001b[0;34m\u001b[0m\u001b[0m\n\u001b[1;32m    203\u001b[0m     for t,frame in clip.iter_frames(progress_bar=True, with_times=True,\n\u001b[0;32m--> 204\u001b[0;31m                                     fps=fps, dtype=\"uint8\"):\n\u001b[0m\u001b[1;32m    205\u001b[0m         \u001b[0;32mif\u001b[0m \u001b[0mwithmask\u001b[0m\u001b[0;34m:\u001b[0m\u001b[0;34m\u001b[0m\u001b[0m\n\u001b[1;32m    206\u001b[0m             \u001b[0mmask\u001b[0m \u001b[0;34m=\u001b[0m \u001b[0;34m(\u001b[0m\u001b[0;36m255\u001b[0m\u001b[0;34m*\u001b[0m\u001b[0mclip\u001b[0m\u001b[0;34m.\u001b[0m\u001b[0mmask\u001b[0m\u001b[0;34m.\u001b[0m\u001b[0mget_frame\u001b[0m\u001b[0;34m(\u001b[0m\u001b[0mt\u001b[0m\u001b[0;34m)\u001b[0m\u001b[0;34m)\u001b[0m\u001b[0;34m\u001b[0m\u001b[0m\n",
      "\u001b[0;32m/home/carnd/anaconda3/envs/carnd-term1/lib/python3.5/site-packages/tqdm/_tqdm.py\u001b[0m in \u001b[0;36m__iter__\u001b[0;34m(self)\u001b[0m\n\u001b[1;32m    828\u001b[0m \"\"\", fp_write=getattr(self.fp, 'write', sys.stderr.write))\n\u001b[1;32m    829\u001b[0m \u001b[0;34m\u001b[0m\u001b[0m\n\u001b[0;32m--> 830\u001b[0;31m             \u001b[0;32mfor\u001b[0m \u001b[0mobj\u001b[0m \u001b[0;32min\u001b[0m \u001b[0miterable\u001b[0m\u001b[0;34m:\u001b[0m\u001b[0;34m\u001b[0m\u001b[0m\n\u001b[0m\u001b[1;32m    831\u001b[0m                 \u001b[0;32myield\u001b[0m \u001b[0mobj\u001b[0m\u001b[0;34m\u001b[0m\u001b[0m\n\u001b[1;32m    832\u001b[0m                 \u001b[0;31m# Update and print the progressbar.\u001b[0m\u001b[0;34m\u001b[0m\u001b[0;34m\u001b[0m\u001b[0m\n",
      "\u001b[0;32m/home/carnd/anaconda3/envs/carnd-term1/lib/python3.5/site-packages/moviepy/Clip.py\u001b[0m in \u001b[0;36mgenerator\u001b[0;34m()\u001b[0m\n\u001b[1;32m    471\u001b[0m             \u001b[0;32mfor\u001b[0m \u001b[0mt\u001b[0m \u001b[0;32min\u001b[0m \u001b[0mnp\u001b[0m\u001b[0;34m.\u001b[0m\u001b[0marange\u001b[0m\u001b[0;34m(\u001b[0m\u001b[0;36m0\u001b[0m\u001b[0;34m,\u001b[0m \u001b[0mself\u001b[0m\u001b[0;34m.\u001b[0m\u001b[0mduration\u001b[0m\u001b[0;34m,\u001b[0m \u001b[0;36m1.0\u001b[0m\u001b[0;34m/\u001b[0m\u001b[0mfps\u001b[0m\u001b[0;34m)\u001b[0m\u001b[0;34m:\u001b[0m\u001b[0;34m\u001b[0m\u001b[0m\n\u001b[1;32m    472\u001b[0m \u001b[0;34m\u001b[0m\u001b[0m\n\u001b[0;32m--> 473\u001b[0;31m                 \u001b[0mframe\u001b[0m \u001b[0;34m=\u001b[0m \u001b[0mself\u001b[0m\u001b[0;34m.\u001b[0m\u001b[0mget_frame\u001b[0m\u001b[0;34m(\u001b[0m\u001b[0mt\u001b[0m\u001b[0;34m)\u001b[0m\u001b[0;34m\u001b[0m\u001b[0m\n\u001b[0m\u001b[1;32m    474\u001b[0m \u001b[0;34m\u001b[0m\u001b[0m\n\u001b[1;32m    475\u001b[0m                 \u001b[0;32mif\u001b[0m \u001b[0;34m(\u001b[0m\u001b[0mdtype\u001b[0m \u001b[0;32mis\u001b[0m \u001b[0;32mnot\u001b[0m \u001b[0;32mNone\u001b[0m\u001b[0;34m)\u001b[0m \u001b[0;32mand\u001b[0m \u001b[0;34m(\u001b[0m\u001b[0mframe\u001b[0m\u001b[0;34m.\u001b[0m\u001b[0mdtype\u001b[0m \u001b[0;34m!=\u001b[0m \u001b[0mdtype\u001b[0m\u001b[0;34m)\u001b[0m\u001b[0;34m:\u001b[0m\u001b[0;34m\u001b[0m\u001b[0m\n",
      "\u001b[0;32m<decorator-gen-135>\u001b[0m in \u001b[0;36mget_frame\u001b[0;34m(self, t)\u001b[0m\n",
      "\u001b[0;32m/home/carnd/anaconda3/envs/carnd-term1/lib/python3.5/site-packages/moviepy/decorators.py\u001b[0m in \u001b[0;36mwrapper\u001b[0;34m(f, *a, **kw)\u001b[0m\n\u001b[1;32m     87\u001b[0m         new_kw = {k: fun(v) if k in varnames else v\n\u001b[1;32m     88\u001b[0m                  for (k,v) in kw.items()}\n\u001b[0;32m---> 89\u001b[0;31m         \u001b[0;32mreturn\u001b[0m \u001b[0mf\u001b[0m\u001b[0;34m(\u001b[0m\u001b[0;34m*\u001b[0m\u001b[0mnew_a\u001b[0m\u001b[0;34m,\u001b[0m \u001b[0;34m**\u001b[0m\u001b[0mnew_kw\u001b[0m\u001b[0;34m)\u001b[0m\u001b[0;34m\u001b[0m\u001b[0m\n\u001b[0m\u001b[1;32m     90\u001b[0m     \u001b[0;32mreturn\u001b[0m \u001b[0mdecorator\u001b[0m\u001b[0;34m.\u001b[0m\u001b[0mdecorator\u001b[0m\u001b[0;34m(\u001b[0m\u001b[0mwrapper\u001b[0m\u001b[0;34m)\u001b[0m\u001b[0;34m\u001b[0m\u001b[0m\n\u001b[1;32m     91\u001b[0m \u001b[0;34m\u001b[0m\u001b[0m\n",
      "\u001b[0;32m/home/carnd/anaconda3/envs/carnd-term1/lib/python3.5/site-packages/moviepy/Clip.py\u001b[0m in \u001b[0;36mget_frame\u001b[0;34m(self, t)\u001b[0m\n\u001b[1;32m     93\u001b[0m                 \u001b[0;32mreturn\u001b[0m \u001b[0mframe\u001b[0m\u001b[0;34m\u001b[0m\u001b[0m\n\u001b[1;32m     94\u001b[0m         \u001b[0;32melse\u001b[0m\u001b[0;34m:\u001b[0m\u001b[0;34m\u001b[0m\u001b[0m\n\u001b[0;32m---> 95\u001b[0;31m             \u001b[0;32mreturn\u001b[0m \u001b[0mself\u001b[0m\u001b[0;34m.\u001b[0m\u001b[0mmake_frame\u001b[0m\u001b[0;34m(\u001b[0m\u001b[0mt\u001b[0m\u001b[0;34m)\u001b[0m\u001b[0;34m\u001b[0m\u001b[0m\n\u001b[0m\u001b[1;32m     96\u001b[0m \u001b[0;34m\u001b[0m\u001b[0m\n\u001b[1;32m     97\u001b[0m     \u001b[0;32mdef\u001b[0m \u001b[0mfl\u001b[0m\u001b[0;34m(\u001b[0m\u001b[0mself\u001b[0m\u001b[0;34m,\u001b[0m \u001b[0mfun\u001b[0m\u001b[0;34m,\u001b[0m \u001b[0mapply_to\u001b[0m\u001b[0;34m=\u001b[0m\u001b[0;34m[\u001b[0m\u001b[0;34m]\u001b[0m \u001b[0;34m,\u001b[0m \u001b[0mkeep_duration\u001b[0m\u001b[0;34m=\u001b[0m\u001b[0;32mTrue\u001b[0m\u001b[0;34m)\u001b[0m\u001b[0;34m:\u001b[0m\u001b[0;34m\u001b[0m\u001b[0m\n",
      "\u001b[0;32m/home/carnd/anaconda3/envs/carnd-term1/lib/python3.5/site-packages/moviepy/Clip.py\u001b[0m in \u001b[0;36m<lambda>\u001b[0;34m(t)\u001b[0m\n\u001b[1;32m    134\u001b[0m \u001b[0;34m\u001b[0m\u001b[0m\n\u001b[1;32m    135\u001b[0m         \u001b[0;31m#mf = copy(self.make_frame)\u001b[0m\u001b[0;34m\u001b[0m\u001b[0;34m\u001b[0m\u001b[0m\n\u001b[0;32m--> 136\u001b[0;31m         \u001b[0mnewclip\u001b[0m \u001b[0;34m=\u001b[0m \u001b[0mself\u001b[0m\u001b[0;34m.\u001b[0m\u001b[0mset_make_frame\u001b[0m\u001b[0;34m(\u001b[0m\u001b[0;32mlambda\u001b[0m \u001b[0mt\u001b[0m\u001b[0;34m:\u001b[0m \u001b[0mfun\u001b[0m\u001b[0;34m(\u001b[0m\u001b[0mself\u001b[0m\u001b[0;34m.\u001b[0m\u001b[0mget_frame\u001b[0m\u001b[0;34m,\u001b[0m \u001b[0mt\u001b[0m\u001b[0;34m)\u001b[0m\u001b[0;34m)\u001b[0m\u001b[0;34m\u001b[0m\u001b[0m\n\u001b[0m\u001b[1;32m    137\u001b[0m \u001b[0;34m\u001b[0m\u001b[0m\n\u001b[1;32m    138\u001b[0m         \u001b[0;32mif\u001b[0m \u001b[0;32mnot\u001b[0m \u001b[0mkeep_duration\u001b[0m\u001b[0;34m:\u001b[0m\u001b[0;34m\u001b[0m\u001b[0m\n",
      "\u001b[0;32m/home/carnd/anaconda3/envs/carnd-term1/lib/python3.5/site-packages/moviepy/video/VideoClip.py\u001b[0m in \u001b[0;36m<lambda>\u001b[0;34m(gf, t)\u001b[0m\n\u001b[1;32m    512\u001b[0m         \u001b[0;31m`\u001b[0m\u001b[0mget_frame\u001b[0m\u001b[0;34m(\u001b[0m\u001b[0mt\u001b[0m\u001b[0;34m)\u001b[0m\u001b[0;31m`\u001b[0m \u001b[0mby\u001b[0m \u001b[0manother\u001b[0m \u001b[0mframe\u001b[0m\u001b[0;34m,\u001b[0m\u001b[0;31m \u001b[0m\u001b[0;31m \u001b[0m\u001b[0;31m`\u001b[0m\u001b[0mimage_func\u001b[0m\u001b[0;34m(\u001b[0m\u001b[0mget_frame\u001b[0m\u001b[0;34m(\u001b[0m\u001b[0mt\u001b[0m\u001b[0;34m)\u001b[0m\u001b[0;34m)\u001b[0m\u001b[0;31m`\u001b[0m\u001b[0;34m\u001b[0m\u001b[0m\n\u001b[1;32m    513\u001b[0m         \"\"\"\n\u001b[0;32m--> 514\u001b[0;31m         \u001b[0;32mreturn\u001b[0m \u001b[0mself\u001b[0m\u001b[0;34m.\u001b[0m\u001b[0mfl\u001b[0m\u001b[0;34m(\u001b[0m\u001b[0;32mlambda\u001b[0m \u001b[0mgf\u001b[0m\u001b[0;34m,\u001b[0m \u001b[0mt\u001b[0m\u001b[0;34m:\u001b[0m \u001b[0mimage_func\u001b[0m\u001b[0;34m(\u001b[0m\u001b[0mgf\u001b[0m\u001b[0;34m(\u001b[0m\u001b[0mt\u001b[0m\u001b[0;34m)\u001b[0m\u001b[0;34m)\u001b[0m\u001b[0;34m,\u001b[0m \u001b[0mapply_to\u001b[0m\u001b[0;34m)\u001b[0m\u001b[0;34m\u001b[0m\u001b[0m\n\u001b[0m\u001b[1;32m    515\u001b[0m \u001b[0;34m\u001b[0m\u001b[0m\n\u001b[1;32m    516\u001b[0m     \u001b[0;31m# --------------------------------------------------------------\u001b[0m\u001b[0;34m\u001b[0m\u001b[0;34m\u001b[0m\u001b[0m\n",
      "\u001b[0;32m<ipython-input-76-e6d031452baf>\u001b[0m in \u001b[0;36mprocess_image_frames\u001b[0;34m(image)\u001b[0m\n\u001b[1;32m      1\u001b[0m \u001b[0;32mdef\u001b[0m \u001b[0mprocess_image_frames\u001b[0m\u001b[0;34m(\u001b[0m\u001b[0mimage\u001b[0m\u001b[0;34m)\u001b[0m\u001b[0;34m:\u001b[0m\u001b[0;34m\u001b[0m\u001b[0m\n\u001b[0;32m----> 2\u001b[0;31m     \u001b[0moutput\u001b[0m \u001b[0;34m=\u001b[0m \u001b[0mdraw_predicted_cars\u001b[0m\u001b[0;34m(\u001b[0m\u001b[0mimage\u001b[0m\u001b[0;34m,\u001b[0m \u001b[0mclf\u001b[0m\u001b[0;34m,\u001b[0m \u001b[0mscaler\u001b[0m\u001b[0;34m)\u001b[0m\u001b[0;34m\u001b[0m\u001b[0m\n\u001b[0m\u001b[1;32m      3\u001b[0m     \u001b[0;32mreturn\u001b[0m \u001b[0moutput\u001b[0m\u001b[0;34m\u001b[0m\u001b[0m\n",
      "\u001b[0;32m<ipython-input-74-75036f8c87b3>\u001b[0m in \u001b[0;36mdraw_predicted_cars\u001b[0;34m(original_img, clf, scaler)\u001b[0m\n\u001b[1;32m     29\u001b[0m         pred = predict_class(window_img, clf, scaler, spatial_feat=True, spatial_feat_config=spatial_feat_config, \n\u001b[1;32m     30\u001b[0m                       \u001b[0mcolor_hist_feat\u001b[0m\u001b[0;34m=\u001b[0m\u001b[0;32mTrue\u001b[0m\u001b[0;34m,\u001b[0m \u001b[0mcolor_hist_feat_config\u001b[0m\u001b[0;34m=\u001b[0m\u001b[0mcolor_hist_feat_config\u001b[0m\u001b[0;34m,\u001b[0m\u001b[0;34m\u001b[0m\u001b[0m\n\u001b[0;32m---> 31\u001b[0;31m                       hog_feat=True, hog_feat_config=hog_feat_config)\n\u001b[0m\u001b[1;32m     32\u001b[0m \u001b[0;34m\u001b[0m\u001b[0m\n\u001b[1;32m     33\u001b[0m         \u001b[0;32mif\u001b[0m \u001b[0;34m(\u001b[0m\u001b[0mpred\u001b[0m \u001b[0;34m==\u001b[0m \u001b[0;36m1\u001b[0m\u001b[0;34m)\u001b[0m\u001b[0;34m:\u001b[0m\u001b[0;34m\u001b[0m\u001b[0m\n",
      "\u001b[0;32m<ipython-input-19-75b86a8f8e7a>\u001b[0m in \u001b[0;36mpredict_class\u001b[0;34m(img, clf, scaler, spatial_feat_config, color_hist_feat_config, hog_feat_config, spatial_feat, color_hist_feat, hog_feat)\u001b[0m\n\u001b[1;32m      3\u001b[0m     img_features = extract_single_img_features(img, spatial_feat=spatial_feat, spatial_feat_config=spatial_feat_config, \n\u001b[1;32m      4\u001b[0m                                         \u001b[0mcolor_hist_feat\u001b[0m\u001b[0;34m=\u001b[0m\u001b[0mcolor_hist_feat\u001b[0m\u001b[0;34m,\u001b[0m \u001b[0mcolor_hist_feat_config\u001b[0m\u001b[0;34m=\u001b[0m\u001b[0mcolor_hist_feat_config\u001b[0m\u001b[0;34m,\u001b[0m\u001b[0;34m\u001b[0m\u001b[0m\n\u001b[0;32m----> 5\u001b[0;31m                                         hog_feat=hog_feat, hog_feat_config=hog_feat_config)\n\u001b[0m\u001b[1;32m      6\u001b[0m     \u001b[0;31m#Scale and normalize the features\u001b[0m\u001b[0;34m\u001b[0m\u001b[0;34m\u001b[0m\u001b[0m\n\u001b[1;32m      7\u001b[0m     \u001b[0mimg_features\u001b[0m \u001b[0;34m=\u001b[0m \u001b[0mscaler\u001b[0m\u001b[0;34m.\u001b[0m\u001b[0mtransform\u001b[0m\u001b[0;34m(\u001b[0m\u001b[0mnp\u001b[0m\u001b[0;34m.\u001b[0m\u001b[0marray\u001b[0m\u001b[0;34m(\u001b[0m\u001b[0mimg_features\u001b[0m\u001b[0;34m)\u001b[0m\u001b[0;34m.\u001b[0m\u001b[0mreshape\u001b[0m\u001b[0;34m(\u001b[0m\u001b[0;36m1\u001b[0m\u001b[0;34m,\u001b[0m \u001b[0;34m-\u001b[0m\u001b[0;36m1\u001b[0m\u001b[0;34m)\u001b[0m\u001b[0;34m)\u001b[0m\u001b[0;34m\u001b[0m\u001b[0m\n",
      "\u001b[0;32m<ipython-input-18-2d33f2cd411d>\u001b[0m in \u001b[0;36mextract_single_img_features\u001b[0;34m(img, spatial_feat, spatial_feat_config, color_hist_feat, color_hist_feat_config, hog_feat, hog_feat_config)\u001b[0m\n\u001b[1;32m     15\u001b[0m                                            \u001b[0mpix_per_cell\u001b[0m\u001b[0;34m=\u001b[0m\u001b[0mhog_feat_config\u001b[0m\u001b[0;34m[\u001b[0m\u001b[0;34m\"pix_per_cell\"\u001b[0m\u001b[0;34m]\u001b[0m\u001b[0;34m,\u001b[0m\u001b[0;34m\u001b[0m\u001b[0m\n\u001b[1;32m     16\u001b[0m                                            \u001b[0mcell_per_block\u001b[0m\u001b[0;34m=\u001b[0m\u001b[0mhog_feat_config\u001b[0m\u001b[0;34m[\u001b[0m\u001b[0;34m\"cell_per_block\"\u001b[0m\u001b[0;34m]\u001b[0m\u001b[0;34m,\u001b[0m\u001b[0;34m\u001b[0m\u001b[0m\n\u001b[0;32m---> 17\u001b[0;31m                                            hog_channel=hog_feat_config[\"hog_channel\"])\n\u001b[0m\u001b[1;32m     18\u001b[0m         \u001b[0mfeatures\u001b[0m\u001b[0;34m.\u001b[0m\u001b[0mappend\u001b[0m\u001b[0;34m(\u001b[0m\u001b[0mhog_features\u001b[0m\u001b[0;34m)\u001b[0m\u001b[0;34m\u001b[0m\u001b[0m\n\u001b[1;32m     19\u001b[0m     \u001b[0;32mreturn\u001b[0m \u001b[0mnp\u001b[0m\u001b[0;34m.\u001b[0m\u001b[0mconcatenate\u001b[0m\u001b[0;34m(\u001b[0m\u001b[0mfeatures\u001b[0m\u001b[0;34m,\u001b[0m \u001b[0maxis\u001b[0m\u001b[0;34m=\u001b[0m\u001b[0;36m1\u001b[0m\u001b[0;34m)\u001b[0m\u001b[0;34m\u001b[0m\u001b[0m\n",
      "\u001b[0;32m<ipython-input-6-c324fd6a38b9>\u001b[0m in \u001b[0;36mextract_hog_features\u001b[0;34m(imgs, is_image_path, color_space, orient, pix_per_cell, cell_per_block, hog_channel, visualization, feature_vec)\u001b[0m\n\u001b[1;32m     11\u001b[0m             \u001b[0;32mfor\u001b[0m \u001b[0mchannel\u001b[0m \u001b[0;32min\u001b[0m \u001b[0mrange\u001b[0m\u001b[0;34m(\u001b[0m\u001b[0mimg\u001b[0m\u001b[0;34m.\u001b[0m\u001b[0mshape\u001b[0m\u001b[0;34m[\u001b[0m\u001b[0;36m2\u001b[0m\u001b[0;34m]\u001b[0m\u001b[0;34m)\u001b[0m\u001b[0;34m:\u001b[0m\u001b[0;34m\u001b[0m\u001b[0m\n\u001b[1;32m     12\u001b[0m                 img_features.extend(hog_features(img[:,:,channel], orient=orient, pix_per_cell=pix_per_cell, \n\u001b[0;32m---> 13\u001b[0;31m                                 cell_per_block=cell_per_block, visualization=visualization)[0])\n\u001b[0m\u001b[1;32m     14\u001b[0m         \u001b[0;32melse\u001b[0m\u001b[0;34m:\u001b[0m\u001b[0;34m\u001b[0m\u001b[0m\n\u001b[1;32m     15\u001b[0m             img_features = hog_features(img[:,:, hog_channel], orient=orient, pix_per_cell=pix_per_cell, \n",
      "\u001b[0;32m<ipython-input-5-5398d5638dc8>\u001b[0m in \u001b[0;36mhog_features\u001b[0;34m(img, orient, pix_per_cell, cell_per_block, visualization, feature_vec)\u001b[0m\n\u001b[1;32m      5\u001b[0m     \u001b[0;32melse\u001b[0m\u001b[0;34m:\u001b[0m\u001b[0;34m\u001b[0m\u001b[0m\n\u001b[1;32m      6\u001b[0m         \u001b[0;31m# Use skimage.hog() to get features only\u001b[0m\u001b[0;34m\u001b[0m\u001b[0;34m\u001b[0m\u001b[0m\n\u001b[0;32m----> 7\u001b[0;31m         \u001b[0mfeatures\u001b[0m \u001b[0;34m=\u001b[0m \u001b[0mhog\u001b[0m\u001b[0;34m(\u001b[0m\u001b[0mimg\u001b[0m\u001b[0;34m,\u001b[0m \u001b[0morientations\u001b[0m\u001b[0;34m=\u001b[0m\u001b[0morient\u001b[0m\u001b[0;34m,\u001b[0m \u001b[0mpixels_per_cell\u001b[0m\u001b[0;34m=\u001b[0m\u001b[0;34m(\u001b[0m\u001b[0mpix_per_cell\u001b[0m\u001b[0;34m,\u001b[0m \u001b[0mpix_per_cell\u001b[0m\u001b[0;34m)\u001b[0m\u001b[0;34m,\u001b[0m \u001b[0mcells_per_block\u001b[0m\u001b[0;34m=\u001b[0m\u001b[0;34m(\u001b[0m\u001b[0mcell_per_block\u001b[0m\u001b[0;34m,\u001b[0m \u001b[0mcell_per_block\u001b[0m\u001b[0;34m)\u001b[0m\u001b[0;34m,\u001b[0m \u001b[0mvisualise\u001b[0m\u001b[0;34m=\u001b[0m\u001b[0mvisualization\u001b[0m\u001b[0;34m,\u001b[0m \u001b[0mfeature_vector\u001b[0m\u001b[0;34m=\u001b[0m\u001b[0mfeature_vec\u001b[0m\u001b[0;34m)\u001b[0m\u001b[0;34m\u001b[0m\u001b[0m\n\u001b[0m\u001b[1;32m      8\u001b[0m         \u001b[0mhog_image\u001b[0m \u001b[0;34m=\u001b[0m \u001b[0;32mNone\u001b[0m\u001b[0;34m\u001b[0m\u001b[0m\n\u001b[1;32m      9\u001b[0m     \u001b[0;32mreturn\u001b[0m \u001b[0mfeatures\u001b[0m\u001b[0;34m,\u001b[0m \u001b[0mhog_image\u001b[0m\u001b[0;34m\u001b[0m\u001b[0m\n",
      "\u001b[0;32m/home/carnd/anaconda3/envs/carnd-term1/lib/python3.5/site-packages/skimage/feature/_hog.py\u001b[0m in \u001b[0;36mhog\u001b[0;34m(image, orientations, pixels_per_cell, cells_per_block, visualise, transform_sqrt, feature_vector, normalise)\u001b[0m\n\u001b[1;32m    185\u001b[0m             \u001b[0mblock\u001b[0m \u001b[0;34m=\u001b[0m \u001b[0morientation_histogram\u001b[0m\u001b[0;34m[\u001b[0m\u001b[0my\u001b[0m\u001b[0;34m:\u001b[0m\u001b[0my\u001b[0m \u001b[0;34m+\u001b[0m \u001b[0mby\u001b[0m\u001b[0;34m,\u001b[0m \u001b[0mx\u001b[0m\u001b[0;34m:\u001b[0m\u001b[0mx\u001b[0m \u001b[0;34m+\u001b[0m \u001b[0mbx\u001b[0m\u001b[0;34m,\u001b[0m \u001b[0;34m:\u001b[0m\u001b[0;34m]\u001b[0m\u001b[0;34m\u001b[0m\u001b[0m\n\u001b[1;32m    186\u001b[0m             \u001b[0meps\u001b[0m \u001b[0;34m=\u001b[0m \u001b[0;36m1e-5\u001b[0m\u001b[0;34m\u001b[0m\u001b[0m\n\u001b[0;32m--> 187\u001b[0;31m             \u001b[0mnormalised_blocks\u001b[0m\u001b[0;34m[\u001b[0m\u001b[0my\u001b[0m\u001b[0;34m,\u001b[0m \u001b[0mx\u001b[0m\u001b[0;34m,\u001b[0m \u001b[0;34m:\u001b[0m\u001b[0;34m]\u001b[0m \u001b[0;34m=\u001b[0m \u001b[0mblock\u001b[0m \u001b[0;34m/\u001b[0m \u001b[0mnp\u001b[0m\u001b[0;34m.\u001b[0m\u001b[0msqrt\u001b[0m\u001b[0;34m(\u001b[0m\u001b[0mblock\u001b[0m\u001b[0;34m.\u001b[0m\u001b[0msum\u001b[0m\u001b[0;34m(\u001b[0m\u001b[0;34m)\u001b[0m \u001b[0;34m**\u001b[0m \u001b[0;36m2\u001b[0m \u001b[0;34m+\u001b[0m \u001b[0meps\u001b[0m\u001b[0;34m)\u001b[0m\u001b[0;34m\u001b[0m\u001b[0m\n\u001b[0m\u001b[1;32m    188\u001b[0m \u001b[0;34m\u001b[0m\u001b[0m\n\u001b[1;32m    189\u001b[0m     \"\"\"\n",
      "\u001b[0;32m/home/carnd/anaconda3/envs/carnd-term1/lib/python3.5/site-packages/numpy/core/_methods.py\u001b[0m in \u001b[0;36m_sum\u001b[0;34m(a, axis, dtype, out, keepdims)\u001b[0m\n\u001b[1;32m     30\u001b[0m \u001b[0;34m\u001b[0m\u001b[0m\n\u001b[1;32m     31\u001b[0m \u001b[0;32mdef\u001b[0m \u001b[0m_sum\u001b[0m\u001b[0;34m(\u001b[0m\u001b[0ma\u001b[0m\u001b[0;34m,\u001b[0m \u001b[0maxis\u001b[0m\u001b[0;34m=\u001b[0m\u001b[0;32mNone\u001b[0m\u001b[0;34m,\u001b[0m \u001b[0mdtype\u001b[0m\u001b[0;34m=\u001b[0m\u001b[0;32mNone\u001b[0m\u001b[0;34m,\u001b[0m \u001b[0mout\u001b[0m\u001b[0;34m=\u001b[0m\u001b[0;32mNone\u001b[0m\u001b[0;34m,\u001b[0m \u001b[0mkeepdims\u001b[0m\u001b[0;34m=\u001b[0m\u001b[0;32mFalse\u001b[0m\u001b[0;34m)\u001b[0m\u001b[0;34m:\u001b[0m\u001b[0;34m\u001b[0m\u001b[0m\n\u001b[0;32m---> 32\u001b[0;31m     \u001b[0;32mreturn\u001b[0m \u001b[0mumr_sum\u001b[0m\u001b[0;34m(\u001b[0m\u001b[0ma\u001b[0m\u001b[0;34m,\u001b[0m \u001b[0maxis\u001b[0m\u001b[0;34m,\u001b[0m \u001b[0mdtype\u001b[0m\u001b[0;34m,\u001b[0m \u001b[0mout\u001b[0m\u001b[0;34m,\u001b[0m \u001b[0mkeepdims\u001b[0m\u001b[0;34m)\u001b[0m\u001b[0;34m\u001b[0m\u001b[0m\n\u001b[0m\u001b[1;32m     33\u001b[0m \u001b[0;34m\u001b[0m\u001b[0m\n\u001b[1;32m     34\u001b[0m \u001b[0;32mdef\u001b[0m \u001b[0m_prod\u001b[0m\u001b[0;34m(\u001b[0m\u001b[0ma\u001b[0m\u001b[0;34m,\u001b[0m \u001b[0maxis\u001b[0m\u001b[0;34m=\u001b[0m\u001b[0;32mNone\u001b[0m\u001b[0;34m,\u001b[0m \u001b[0mdtype\u001b[0m\u001b[0;34m=\u001b[0m\u001b[0;32mNone\u001b[0m\u001b[0;34m,\u001b[0m \u001b[0mout\u001b[0m\u001b[0;34m=\u001b[0m\u001b[0;32mNone\u001b[0m\u001b[0;34m,\u001b[0m \u001b[0mkeepdims\u001b[0m\u001b[0;34m=\u001b[0m\u001b[0;32mFalse\u001b[0m\u001b[0;34m)\u001b[0m\u001b[0;34m:\u001b[0m\u001b[0;34m\u001b[0m\u001b[0m\n",
      "\u001b[0;31mKeyboardInterrupt\u001b[0m: "
     ]
    }
   ],
   "source": [
    "def main(video_src, video_dst):\n",
    "    laneDetectionInVideo(video_src, video_dst)\n",
    "main(\"test_video/test_video.mp4\", \"test-partial-data-run.mp4\")"
   ]
  },
  {
   "cell_type": "markdown",
   "metadata": {
    "deletable": true,
    "editable": true
   },
   "source": [
    "### Goal 7 - Estimate a bounding box for vehicles detected."
   ]
  },
  {
   "cell_type": "code",
   "execution_count": null,
   "metadata": {
    "collapsed": true,
    "deletable": true,
    "editable": true
   },
   "outputs": [],
   "source": []
  }
 ],
 "metadata": {
  "anaconda-cloud": {},
  "kernelspec": {
   "display_name": "Python 3",
   "language": "python",
   "name": "python3"
  },
  "language_info": {
   "codemirror_mode": {
    "name": "ipython",
    "version": 3
   },
   "file_extension": ".py",
   "mimetype": "text/x-python",
   "name": "python",
   "nbconvert_exporter": "python",
   "pygments_lexer": "ipython3",
   "version": "3.5.2"
  },
  "widgets": {
   "state": {},
   "version": "1.1.2"
  }
 },
 "nbformat": 4,
 "nbformat_minor": 1
}
